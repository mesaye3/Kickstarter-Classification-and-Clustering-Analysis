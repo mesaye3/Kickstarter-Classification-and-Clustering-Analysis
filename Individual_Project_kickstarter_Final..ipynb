{
 "cells": [
  {
   "cell_type": "code",
   "execution_count": 27,
   "metadata": {
    "id": "QRqPy2cIJwHE"
   },
   "outputs": [],
   "source": [
    "import pandas as pd\n",
    "import numpy as np\n",
    "from datetime import datetime, date\n",
    "import seaborn as sns\n",
    "import matplotlib.pyplot as plt\n",
    "plt.style.use('ggplot')\n",
    "import warnings\n",
    "\n",
    "from pandas.core.common import SettingWithCopyWarning\n",
    "\n",
    "warnings.simplefilter(action=\"ignore\", category=SettingWithCopyWarning)\n",
    "\n",
    "\n",
    "from pandas.core.common import SettingWithCopyWarning\n",
    "warnings.simplefilter(action=\"ignore\", category=FutureWarning)\n",
    "warnings.simplefilter(action='ignore', category=DeprecationWarning)\n",
    "warnings.simplefilter(\"ignore\", UserWarning)\n"
   ]
  },
  {
   "cell_type": "code",
   "execution_count": 2,
   "metadata": {
    "id": "N7GbD5vMJvXg"
   },
   "outputs": [],
   "source": [
    "#df = pd.read_excel(filename)\n",
    "\n",
    "df = pd.read_excel(\"Kickstarter.xlsx\")\n",
    "\n"
   ]
  },
  {
   "cell_type": "code",
   "execution_count": 4,
   "metadata": {
    "colab": {
     "base_uri": "https://localhost:8080/",
     "height": 567
    },
    "id": "J1WwFhXjJuod",
    "outputId": "296f5899-e583-4865-c59e-8fabf1c552d0"
   },
   "outputs": [
    {
     "data": {
      "text/html": [
       "<div>\n",
       "<style scoped>\n",
       "    .dataframe tbody tr th:only-of-type {\n",
       "        vertical-align: middle;\n",
       "    }\n",
       "\n",
       "    .dataframe tbody tr th {\n",
       "        vertical-align: top;\n",
       "    }\n",
       "\n",
       "    .dataframe thead th {\n",
       "        text-align: right;\n",
       "    }\n",
       "</style>\n",
       "<table border=\"1\" class=\"dataframe\">\n",
       "  <thead>\n",
       "    <tr style=\"text-align: right;\">\n",
       "      <th></th>\n",
       "      <th>project_id</th>\n",
       "      <th>name</th>\n",
       "      <th>goal</th>\n",
       "      <th>pledged</th>\n",
       "      <th>state</th>\n",
       "      <th>disable_communication</th>\n",
       "      <th>country</th>\n",
       "      <th>currency</th>\n",
       "      <th>deadline</th>\n",
       "      <th>state_changed_at</th>\n",
       "      <th>...</th>\n",
       "      <th>created_at_day</th>\n",
       "      <th>created_at_yr</th>\n",
       "      <th>created_at_hr</th>\n",
       "      <th>launched_at_month</th>\n",
       "      <th>launched_at_day</th>\n",
       "      <th>launched_at_yr</th>\n",
       "      <th>launched_at_hr</th>\n",
       "      <th>create_to_launch_days</th>\n",
       "      <th>launch_to_deadline_days</th>\n",
       "      <th>launch_to_state_change_days</th>\n",
       "    </tr>\n",
       "  </thead>\n",
       "  <tbody>\n",
       "    <tr>\n",
       "      <th>0</th>\n",
       "      <td>14042</td>\n",
       "      <td>Elysian Tuned Aperture Pickups for Electric Gu...</td>\n",
       "      <td>15000.0</td>\n",
       "      <td>4257.0</td>\n",
       "      <td>failed</td>\n",
       "      <td>False</td>\n",
       "      <td>US</td>\n",
       "      <td>USD</td>\n",
       "      <td>2015-04-05T12:42:40</td>\n",
       "      <td>2015-04-05T12:42:41</td>\n",
       "      <td>...</td>\n",
       "      <td>1</td>\n",
       "      <td>2015</td>\n",
       "      <td>10</td>\n",
       "      <td>3</td>\n",
       "      <td>6</td>\n",
       "      <td>2015</td>\n",
       "      <td>12</td>\n",
       "      <td>5</td>\n",
       "      <td>30</td>\n",
       "      <td>NaN</td>\n",
       "    </tr>\n",
       "    <tr>\n",
       "      <th>1</th>\n",
       "      <td>767</td>\n",
       "      <td>Linker</td>\n",
       "      <td>4000.0</td>\n",
       "      <td>51.0</td>\n",
       "      <td>failed</td>\n",
       "      <td>False</td>\n",
       "      <td>CA</td>\n",
       "      <td>CAD</td>\n",
       "      <td>2014-12-26T08:45:09</td>\n",
       "      <td>2014-12-26T08:45:25</td>\n",
       "      <td>...</td>\n",
       "      <td>28</td>\n",
       "      <td>2014</td>\n",
       "      <td>9</td>\n",
       "      <td>10</td>\n",
       "      <td>27</td>\n",
       "      <td>2014</td>\n",
       "      <td>8</td>\n",
       "      <td>59</td>\n",
       "      <td>60</td>\n",
       "      <td>NaN</td>\n",
       "    </tr>\n",
       "    <tr>\n",
       "      <th>2</th>\n",
       "      <td>2128</td>\n",
       "      <td>Making the Move--Edinburgh Fringe 2014</td>\n",
       "      <td>7750.0</td>\n",
       "      <td>7860.0</td>\n",
       "      <td>successful</td>\n",
       "      <td>False</td>\n",
       "      <td>US</td>\n",
       "      <td>USD</td>\n",
       "      <td>2014-08-19T11:00:00</td>\n",
       "      <td>2014-08-19T11:00:10</td>\n",
       "      <td>...</td>\n",
       "      <td>30</td>\n",
       "      <td>2014</td>\n",
       "      <td>2</td>\n",
       "      <td>7</td>\n",
       "      <td>31</td>\n",
       "      <td>2014</td>\n",
       "      <td>13</td>\n",
       "      <td>1</td>\n",
       "      <td>18</td>\n",
       "      <td>18.0</td>\n",
       "    </tr>\n",
       "    <tr>\n",
       "      <th>3</th>\n",
       "      <td>17449</td>\n",
       "      <td>Apple Usb Cable Protector</td>\n",
       "      <td>5000.0</td>\n",
       "      <td>1633.0</td>\n",
       "      <td>failed</td>\n",
       "      <td>False</td>\n",
       "      <td>FR</td>\n",
       "      <td>EUR</td>\n",
       "      <td>2015-10-18T16:00:20</td>\n",
       "      <td>2015-10-18T16:00:20</td>\n",
       "      <td>...</td>\n",
       "      <td>16</td>\n",
       "      <td>2015</td>\n",
       "      <td>12</td>\n",
       "      <td>8</td>\n",
       "      <td>19</td>\n",
       "      <td>2015</td>\n",
       "      <td>16</td>\n",
       "      <td>3</td>\n",
       "      <td>60</td>\n",
       "      <td>NaN</td>\n",
       "    </tr>\n",
       "    <tr>\n",
       "      <th>4</th>\n",
       "      <td>10959</td>\n",
       "      <td>Simple Work Attendance Sheet (S.work.a.S.)</td>\n",
       "      <td>1300.0</td>\n",
       "      <td>16.0</td>\n",
       "      <td>failed</td>\n",
       "      <td>False</td>\n",
       "      <td>IT</td>\n",
       "      <td>EUR</td>\n",
       "      <td>2015-11-06T08:49:35</td>\n",
       "      <td>2015-11-06T08:49:35</td>\n",
       "      <td>...</td>\n",
       "      <td>15</td>\n",
       "      <td>2015</td>\n",
       "      <td>11</td>\n",
       "      <td>10</td>\n",
       "      <td>12</td>\n",
       "      <td>2015</td>\n",
       "      <td>8</td>\n",
       "      <td>26</td>\n",
       "      <td>25</td>\n",
       "      <td>NaN</td>\n",
       "    </tr>\n",
       "  </tbody>\n",
       "</table>\n",
       "<p>5 rows × 45 columns</p>\n",
       "</div>"
      ],
      "text/plain": [
       "   project_id                                               name     goal  \\\n",
       "0       14042  Elysian Tuned Aperture Pickups for Electric Gu...  15000.0   \n",
       "1         767                                             Linker   4000.0   \n",
       "2        2128             Making the Move--Edinburgh Fringe 2014   7750.0   \n",
       "3       17449                          Apple Usb Cable Protector   5000.0   \n",
       "4       10959         Simple Work Attendance Sheet (S.work.a.S.)   1300.0   \n",
       "\n",
       "   pledged       state  disable_communication country currency  \\\n",
       "0   4257.0      failed                  False      US      USD   \n",
       "1     51.0      failed                  False      CA      CAD   \n",
       "2   7860.0  successful                  False      US      USD   \n",
       "3   1633.0      failed                  False      FR      EUR   \n",
       "4     16.0      failed                  False      IT      EUR   \n",
       "\n",
       "              deadline     state_changed_at  ... created_at_day created_at_yr  \\\n",
       "0  2015-04-05T12:42:40  2015-04-05T12:42:41  ...              1          2015   \n",
       "1  2014-12-26T08:45:09  2014-12-26T08:45:25  ...             28          2014   \n",
       "2  2014-08-19T11:00:00  2014-08-19T11:00:10  ...             30          2014   \n",
       "3  2015-10-18T16:00:20  2015-10-18T16:00:20  ...             16          2015   \n",
       "4  2015-11-06T08:49:35  2015-11-06T08:49:35  ...             15          2015   \n",
       "\n",
       "   created_at_hr  launched_at_month  launched_at_day  launched_at_yr  \\\n",
       "0             10                  3                6            2015   \n",
       "1              9                 10               27            2014   \n",
       "2              2                  7               31            2014   \n",
       "3             12                  8               19            2015   \n",
       "4             11                 10               12            2015   \n",
       "\n",
       "  launched_at_hr  create_to_launch_days  launch_to_deadline_days  \\\n",
       "0             12                      5                       30   \n",
       "1              8                     59                       60   \n",
       "2             13                      1                       18   \n",
       "3             16                      3                       60   \n",
       "4              8                     26                       25   \n",
       "\n",
       "   launch_to_state_change_days  \n",
       "0                          NaN  \n",
       "1                          NaN  \n",
       "2                         18.0  \n",
       "3                          NaN  \n",
       "4                          NaN  \n",
       "\n",
       "[5 rows x 45 columns]"
      ]
     },
     "execution_count": 4,
     "metadata": {},
     "output_type": "execute_result"
    }
   ],
   "source": [
    "df.head()"
   ]
  },
  {
   "cell_type": "code",
   "execution_count": 5,
   "metadata": {
    "colab": {
     "base_uri": "https://localhost:8080/"
    },
    "id": "0jpH_mmInFqe",
    "outputId": "a6e715cf-360f-449b-a41d-05280aef6f2c"
   },
   "outputs": [
    {
     "data": {
      "text/plain": [
       "(18568, 45)"
      ]
     },
     "execution_count": 5,
     "metadata": {},
     "output_type": "execute_result"
    }
   ],
   "source": [
    "df.shape"
   ]
  },
  {
   "cell_type": "code",
   "execution_count": 6,
   "metadata": {
    "colab": {
     "base_uri": "https://localhost:8080/"
    },
    "id": "8G0ASeyBnFte",
    "outputId": "720b76c4-c85d-430e-c8e1-2efd5bf7ea74"
   },
   "outputs": [
    {
     "data": {
      "text/plain": [
       "Index(['project_id', 'name', 'goal', 'pledged', 'state',\n",
       "       'disable_communication', 'country', 'currency', 'deadline',\n",
       "       'state_changed_at', 'created_at', 'launched_at', 'staff_pick',\n",
       "       'backers_count', 'static_usd_rate', 'usd_pledged', 'category',\n",
       "       'spotlight', 'name_len', 'name_len_clean', 'blurb_len',\n",
       "       'blurb_len_clean', 'deadline_weekday', 'state_changed_at_weekday',\n",
       "       'created_at_weekday', 'launched_at_weekday', 'deadline_month',\n",
       "       'deadline_day', 'deadline_yr', 'deadline_hr', 'state_changed_at_month',\n",
       "       'state_changed_at_day', 'state_changed_at_yr', 'state_changed_at_hr',\n",
       "       'created_at_month', 'created_at_day', 'created_at_yr', 'created_at_hr',\n",
       "       'launched_at_month', 'launched_at_day', 'launched_at_yr',\n",
       "       'launched_at_hr', 'create_to_launch_days', 'launch_to_deadline_days',\n",
       "       'launch_to_state_change_days'],\n",
       "      dtype='object')"
      ]
     },
     "execution_count": 6,
     "metadata": {},
     "output_type": "execute_result"
    }
   ],
   "source": [
    "df.columns"
   ]
  },
  {
   "cell_type": "code",
   "execution_count": 7,
   "metadata": {
    "colab": {
     "base_uri": "https://localhost:8080/"
    },
    "id": "CfuCa2mMnFwh",
    "outputId": "81801f96-0ff5-44a9-a930-00af41ebe18e"
   },
   "outputs": [
    {
     "name": "stdout",
     "output_type": "stream",
     "text": [
      "<class 'pandas.core.frame.DataFrame'>\n",
      "RangeIndex: 18568 entries, 0 to 18567\n",
      "Data columns (total 45 columns):\n",
      " #   Column                       Non-Null Count  Dtype  \n",
      "---  ------                       --------------  -----  \n",
      " 0   project_id                   18568 non-null  int64  \n",
      " 1   name                         18568 non-null  object \n",
      " 2   goal                         18568 non-null  float64\n",
      " 3   pledged                      18568 non-null  float64\n",
      " 4   state                        18568 non-null  object \n",
      " 5   disable_communication        18568 non-null  bool   \n",
      " 6   country                      18568 non-null  object \n",
      " 7   currency                     18568 non-null  object \n",
      " 8   deadline                     18568 non-null  object \n",
      " 9   state_changed_at             18568 non-null  object \n",
      " 10  created_at                   18568 non-null  object \n",
      " 11  launched_at                  18568 non-null  object \n",
      " 12  staff_pick                   18568 non-null  bool   \n",
      " 13  backers_count                18568 non-null  int64  \n",
      " 14  static_usd_rate              18568 non-null  float64\n",
      " 15  usd_pledged                  18568 non-null  float64\n",
      " 16  category                     16884 non-null  object \n",
      " 17  spotlight                    18568 non-null  bool   \n",
      " 18  name_len                     18563 non-null  float64\n",
      " 19  name_len_clean               18563 non-null  float64\n",
      " 20  blurb_len                    18563 non-null  float64\n",
      " 21  blurb_len_clean              18563 non-null  float64\n",
      " 22  deadline_weekday             18568 non-null  object \n",
      " 23  state_changed_at_weekday     18568 non-null  object \n",
      " 24  created_at_weekday           18568 non-null  object \n",
      " 25  launched_at_weekday          18568 non-null  object \n",
      " 26  deadline_month               18568 non-null  int64  \n",
      " 27  deadline_day                 18568 non-null  int64  \n",
      " 28  deadline_yr                  18568 non-null  int64  \n",
      " 29  deadline_hr                  18568 non-null  int64  \n",
      " 30  state_changed_at_month       18568 non-null  int64  \n",
      " 31  state_changed_at_day         18568 non-null  int64  \n",
      " 32  state_changed_at_yr          18568 non-null  int64  \n",
      " 33  state_changed_at_hr          18568 non-null  int64  \n",
      " 34  created_at_month             18568 non-null  int64  \n",
      " 35  created_at_day               18568 non-null  int64  \n",
      " 36  created_at_yr                18568 non-null  int64  \n",
      " 37  created_at_hr                18568 non-null  int64  \n",
      " 38  launched_at_month            18568 non-null  int64  \n",
      " 39  launched_at_day              18568 non-null  int64  \n",
      " 40  launched_at_yr               18568 non-null  int64  \n",
      " 41  launched_at_hr               18568 non-null  int64  \n",
      " 42  create_to_launch_days        18568 non-null  int64  \n",
      " 43  launch_to_deadline_days      18568 non-null  int64  \n",
      " 44  launch_to_state_change_days  5386 non-null   float64\n",
      "dtypes: bool(3), float64(9), int64(20), object(13)\n",
      "memory usage: 6.0+ MB\n"
     ]
    }
   ],
   "source": [
    "df.info()"
   ]
  },
  {
   "cell_type": "code",
   "execution_count": 8,
   "metadata": {
    "colab": {
     "base_uri": "https://localhost:8080/"
    },
    "id": "SpKXg7ECnFzK",
    "outputId": "711134a6-1902-41b2-9681-bd5472d5c4be"
   },
   "outputs": [
    {
     "data": {
      "text/plain": [
       "failed        10299\n",
       "successful     5386\n",
       "canceled       2214\n",
       "live            462\n",
       "suspended       207\n",
       "Name: state, dtype: int64"
      ]
     },
     "execution_count": 8,
     "metadata": {},
     "output_type": "execute_result"
    }
   ],
   "source": [
    "# count the rate of successful and failed here\n",
    "\n",
    "df.state.value_counts()"
   ]
  },
  {
   "cell_type": "code",
   "execution_count": 9,
   "metadata": {
    "id": "O19GklGJx5TT"
   },
   "outputs": [],
   "source": [
    "# only interested in success or failure\n",
    "\n",
    "df1 = df[(df[\"state\"] == \"successful\") | (df[\"state\"] == \"failed\")]"
   ]
  },
  {
   "cell_type": "code",
   "execution_count": 10,
   "metadata": {
    "colab": {
     "base_uri": "https://localhost:8080/",
     "height": 324
    },
    "id": "p8IrltpYnF1g",
    "outputId": "b82024b2-fa4d-4797-d7b7-9d19077e3e20"
   },
   "outputs": [
    {
     "data": {
      "text/plain": [
       "<AxesSubplot:>"
      ]
     },
     "execution_count": 10,
     "metadata": {},
     "output_type": "execute_result"
    },
    {
     "data": {
      "image/png": "[encoded data removed]",
      "text/plain": [
       "<Figure size 432x288 with 1 Axes>"
      ]
     },
     "metadata": {},
     "output_type": "display_data"
    }
   ],
   "source": [
    "df1.state.value_counts().plot.bar()\n",
    "\n"
   ]
  },
  {
   "cell_type": "code",
   "execution_count": 11,
   "metadata": {
    "colab": {
     "base_uri": "https://localhost:8080/",
     "height": 452
    },
    "id": "gC7mf-aQnF6Y",
    "outputId": "87fcacf3-7db0-4f24-9007-aa7c49f2fa86"
   },
   "outputs": [
    {
     "data": {
      "text/html": [
       "<div>\n",
       "<style scoped>\n",
       "    .dataframe tbody tr th:only-of-type {\n",
       "        vertical-align: middle;\n",
       "    }\n",
       "\n",
       "    .dataframe tbody tr th {\n",
       "        vertical-align: top;\n",
       "    }\n",
       "\n",
       "    .dataframe thead th {\n",
       "        text-align: right;\n",
       "    }\n",
       "</style>\n",
       "<table border=\"1\" class=\"dataframe\">\n",
       "  <thead>\n",
       "    <tr style=\"text-align: right;\">\n",
       "      <th></th>\n",
       "      <th>project_id</th>\n",
       "      <th>name</th>\n",
       "      <th>goal</th>\n",
       "      <th>pledged</th>\n",
       "      <th>state</th>\n",
       "      <th>disable_communication</th>\n",
       "      <th>country</th>\n",
       "      <th>currency</th>\n",
       "      <th>deadline</th>\n",
       "      <th>state_changed_at</th>\n",
       "      <th>...</th>\n",
       "      <th>created_at_day</th>\n",
       "      <th>created_at_yr</th>\n",
       "      <th>created_at_hr</th>\n",
       "      <th>launched_at_month</th>\n",
       "      <th>launched_at_day</th>\n",
       "      <th>launched_at_yr</th>\n",
       "      <th>launched_at_hr</th>\n",
       "      <th>create_to_launch_days</th>\n",
       "      <th>launch_to_deadline_days</th>\n",
       "      <th>launch_to_state_change_days</th>\n",
       "    </tr>\n",
       "  </thead>\n",
       "  <tbody>\n",
       "    <tr>\n",
       "      <th>0</th>\n",
       "      <td>14042</td>\n",
       "      <td>Elysian Tuned Aperture Pickups for Electric Gu...</td>\n",
       "      <td>15000.0</td>\n",
       "      <td>4257.0</td>\n",
       "      <td>failed</td>\n",
       "      <td>False</td>\n",
       "      <td>US</td>\n",
       "      <td>USD</td>\n",
       "      <td>2015-04-05T12:42:40</td>\n",
       "      <td>2015-04-05T12:42:41</td>\n",
       "      <td>...</td>\n",
       "      <td>1</td>\n",
       "      <td>2015</td>\n",
       "      <td>10</td>\n",
       "      <td>3</td>\n",
       "      <td>6</td>\n",
       "      <td>2015</td>\n",
       "      <td>12</td>\n",
       "      <td>5</td>\n",
       "      <td>30</td>\n",
       "      <td>NaN</td>\n",
       "    </tr>\n",
       "    <tr>\n",
       "      <th>1</th>\n",
       "      <td>767</td>\n",
       "      <td>Linker</td>\n",
       "      <td>4000.0</td>\n",
       "      <td>51.0</td>\n",
       "      <td>failed</td>\n",
       "      <td>False</td>\n",
       "      <td>CA</td>\n",
       "      <td>CAD</td>\n",
       "      <td>2014-12-26T08:45:09</td>\n",
       "      <td>2014-12-26T08:45:25</td>\n",
       "      <td>...</td>\n",
       "      <td>28</td>\n",
       "      <td>2014</td>\n",
       "      <td>9</td>\n",
       "      <td>10</td>\n",
       "      <td>27</td>\n",
       "      <td>2014</td>\n",
       "      <td>8</td>\n",
       "      <td>59</td>\n",
       "      <td>60</td>\n",
       "      <td>NaN</td>\n",
       "    </tr>\n",
       "    <tr>\n",
       "      <th>2</th>\n",
       "      <td>2128</td>\n",
       "      <td>Making the Move--Edinburgh Fringe 2014</td>\n",
       "      <td>7750.0</td>\n",
       "      <td>7860.0</td>\n",
       "      <td>successful</td>\n",
       "      <td>False</td>\n",
       "      <td>US</td>\n",
       "      <td>USD</td>\n",
       "      <td>2014-08-19T11:00:00</td>\n",
       "      <td>2014-08-19T11:00:10</td>\n",
       "      <td>...</td>\n",
       "      <td>30</td>\n",
       "      <td>2014</td>\n",
       "      <td>2</td>\n",
       "      <td>7</td>\n",
       "      <td>31</td>\n",
       "      <td>2014</td>\n",
       "      <td>13</td>\n",
       "      <td>1</td>\n",
       "      <td>18</td>\n",
       "      <td>18.0</td>\n",
       "    </tr>\n",
       "    <tr>\n",
       "      <th>3</th>\n",
       "      <td>17449</td>\n",
       "      <td>Apple Usb Cable Protector</td>\n",
       "      <td>5000.0</td>\n",
       "      <td>1633.0</td>\n",
       "      <td>failed</td>\n",
       "      <td>False</td>\n",
       "      <td>FR</td>\n",
       "      <td>EUR</td>\n",
       "      <td>2015-10-18T16:00:20</td>\n",
       "      <td>2015-10-18T16:00:20</td>\n",
       "      <td>...</td>\n",
       "      <td>16</td>\n",
       "      <td>2015</td>\n",
       "      <td>12</td>\n",
       "      <td>8</td>\n",
       "      <td>19</td>\n",
       "      <td>2015</td>\n",
       "      <td>16</td>\n",
       "      <td>3</td>\n",
       "      <td>60</td>\n",
       "      <td>NaN</td>\n",
       "    </tr>\n",
       "    <tr>\n",
       "      <th>4</th>\n",
       "      <td>10959</td>\n",
       "      <td>Simple Work Attendance Sheet (S.work.a.S.)</td>\n",
       "      <td>1300.0</td>\n",
       "      <td>16.0</td>\n",
       "      <td>failed</td>\n",
       "      <td>False</td>\n",
       "      <td>IT</td>\n",
       "      <td>EUR</td>\n",
       "      <td>2015-11-06T08:49:35</td>\n",
       "      <td>2015-11-06T08:49:35</td>\n",
       "      <td>...</td>\n",
       "      <td>15</td>\n",
       "      <td>2015</td>\n",
       "      <td>11</td>\n",
       "      <td>10</td>\n",
       "      <td>12</td>\n",
       "      <td>2015</td>\n",
       "      <td>8</td>\n",
       "      <td>26</td>\n",
       "      <td>25</td>\n",
       "      <td>NaN</td>\n",
       "    </tr>\n",
       "  </tbody>\n",
       "</table>\n",
       "<p>5 rows × 45 columns</p>\n",
       "</div>"
      ],
      "text/plain": [
       "   project_id                                               name     goal  \\\n",
       "0       14042  Elysian Tuned Aperture Pickups for Electric Gu...  15000.0   \n",
       "1         767                                             Linker   4000.0   \n",
       "2        2128             Making the Move--Edinburgh Fringe 2014   7750.0   \n",
       "3       17449                          Apple Usb Cable Protector   5000.0   \n",
       "4       10959         Simple Work Attendance Sheet (S.work.a.S.)   1300.0   \n",
       "\n",
       "   pledged       state  disable_communication country currency  \\\n",
       "0   4257.0      failed                  False      US      USD   \n",
       "1     51.0      failed                  False      CA      CAD   \n",
       "2   7860.0  successful                  False      US      USD   \n",
       "3   1633.0      failed                  False      FR      EUR   \n",
       "4     16.0      failed                  False      IT      EUR   \n",
       "\n",
       "              deadline     state_changed_at  ... created_at_day created_at_yr  \\\n",
       "0  2015-04-05T12:42:40  2015-04-05T12:42:41  ...              1          2015   \n",
       "1  2014-12-26T08:45:09  2014-12-26T08:45:25  ...             28          2014   \n",
       "2  2014-08-19T11:00:00  2014-08-19T11:00:10  ...             30          2014   \n",
       "3  2015-10-18T16:00:20  2015-10-18T16:00:20  ...             16          2015   \n",
       "4  2015-11-06T08:49:35  2015-11-06T08:49:35  ...             15          2015   \n",
       "\n",
       "   created_at_hr  launched_at_month  launched_at_day  launched_at_yr  \\\n",
       "0             10                  3                6            2015   \n",
       "1              9                 10               27            2014   \n",
       "2              2                  7               31            2014   \n",
       "3             12                  8               19            2015   \n",
       "4             11                 10               12            2015   \n",
       "\n",
       "  launched_at_hr  create_to_launch_days  launch_to_deadline_days  \\\n",
       "0             12                      5                       30   \n",
       "1              8                     59                       60   \n",
       "2             13                      1                       18   \n",
       "3             16                      3                       60   \n",
       "4              8                     26                       25   \n",
       "\n",
       "   launch_to_state_change_days  \n",
       "0                          NaN  \n",
       "1                          NaN  \n",
       "2                         18.0  \n",
       "3                          NaN  \n",
       "4                          NaN  \n",
       "\n",
       "[5 rows x 45 columns]"
      ]
     },
     "execution_count": 11,
     "metadata": {},
     "output_type": "execute_result"
    }
   ],
   "source": [
    "df1.head(5)"
   ]
  },
  {
   "cell_type": "code",
   "execution_count": 12,
   "metadata": {
    "id": "lip9DAhDnF_L"
   },
   "outputs": [],
   "source": [
    "# converting datetime objects for deadline, state_changed_at, created_at, launched_at\n",
    "\n",
    "df1[\"deadline\"]= pd.to_datetime(df1[\"deadline\"])\n",
    "\n",
    "df1[\"state_changed_at\"]= pd.to_datetime(df1[\"state_changed_at\"])\n",
    "\n",
    "df1[\"created_at\"]= pd.to_datetime(df1[\"created_at\"])\n",
    "\n",
    "df1[\"launched_at\"]= pd.to_datetime(df1[\"launched_at\"])\n",
    "\n",
    "\n",
    "df1[\"launch_to_deadline\"]= df1[\"deadline\"]- df1[\"launched_at\"]\n",
    "\n",
    "df1[\"launch_to_deadline\"]= df1[\"launch_to_deadline\"].dt.round('d').dt.days\n",
    "\n",
    "\n",
    "df1[\"creation_to_launch\"]= df1[\"launched_at\"] - df1[\"created_at\"]\n",
    "df1[\"creation_to_launch\"] = df1[\"creation_to_launch\"].dt.round('d').dt.days\n",
    "\n",
    "\n",
    "df1[\"launch_year\"] = df1[\"launched_at\"].dt.year\n",
    "df1[\"launch_month\"] = df1[\"launched_at\"].dt.month\n",
    "\n",
    "\n",
    "df1[\"deadline_year\"]= df1[\"launched_at\"].dt.year\n",
    "df1[\"deadline_month\"]= df1[\"deadline\"].dt.month\n",
    "\n",
    "\n",
    "\n",
    "\n"
   ]
  },
  {
   "cell_type": "code",
   "execution_count": 13,
   "metadata": {
    "colab": {
     "base_uri": "https://localhost:8080/"
    },
    "id": "3EBZhc6yXUvC",
    "outputId": "d38e0ea9-475b-4d88-8aed-28cf7a384346"
   },
   "outputs": [
    {
     "name": "stdout",
     "output_type": "stream",
     "text": [
      "<class 'pandas.core.frame.DataFrame'>\n",
      "Int64Index: 15685 entries, 0 to 18567\n",
      "Data columns (total 50 columns):\n",
      " #   Column                       Non-Null Count  Dtype         \n",
      "---  ------                       --------------  -----         \n",
      " 0   project_id                   15685 non-null  int64         \n",
      " 1   name                         15685 non-null  object        \n",
      " 2   goal                         15685 non-null  float64       \n",
      " 3   pledged                      15685 non-null  float64       \n",
      " 4   state                        15685 non-null  object        \n",
      " 5   disable_communication        15685 non-null  bool          \n",
      " 6   country                      15685 non-null  object        \n",
      " 7   currency                     15685 non-null  object        \n",
      " 8   deadline                     15685 non-null  datetime64[ns]\n",
      " 9   state_changed_at             15685 non-null  datetime64[ns]\n",
      " 10  created_at                   15685 non-null  datetime64[ns]\n",
      " 11  launched_at                  15685 non-null  datetime64[ns]\n",
      " 12  staff_pick                   15685 non-null  bool          \n",
      " 13  backers_count                15685 non-null  int64         \n",
      " 14  static_usd_rate              15685 non-null  float64       \n",
      " 15  usd_pledged                  15685 non-null  float64       \n",
      " 16  category                     14214 non-null  object        \n",
      " 17  spotlight                    15685 non-null  bool          \n",
      " 18  name_len                     15685 non-null  float64       \n",
      " 19  name_len_clean               15685 non-null  float64       \n",
      " 20  blurb_len                    15685 non-null  float64       \n",
      " 21  blurb_len_clean              15685 non-null  float64       \n",
      " 22  deadline_weekday             15685 non-null  object        \n",
      " 23  state_changed_at_weekday     15685 non-null  object        \n",
      " 24  created_at_weekday           15685 non-null  object        \n",
      " 25  launched_at_weekday          15685 non-null  object        \n",
      " 26  deadline_month               15685 non-null  int64         \n",
      " 27  deadline_day                 15685 non-null  int64         \n",
      " 28  deadline_yr                  15685 non-null  int64         \n",
      " 29  deadline_hr                  15685 non-null  int64         \n",
      " 30  state_changed_at_month       15685 non-null  int64         \n",
      " 31  state_changed_at_day         15685 non-null  int64         \n",
      " 32  state_changed_at_yr          15685 non-null  int64         \n",
      " 33  state_changed_at_hr          15685 non-null  int64         \n",
      " 34  created_at_month             15685 non-null  int64         \n",
      " 35  created_at_day               15685 non-null  int64         \n",
      " 36  created_at_yr                15685 non-null  int64         \n",
      " 37  created_at_hr                15685 non-null  int64         \n",
      " 38  launched_at_month            15685 non-null  int64         \n",
      " 39  launched_at_day              15685 non-null  int64         \n",
      " 40  launched_at_yr               15685 non-null  int64         \n",
      " 41  launched_at_hr               15685 non-null  int64         \n",
      " 42  create_to_launch_days        15685 non-null  int64         \n",
      " 43  launch_to_deadline_days      15685 non-null  int64         \n",
      " 44  launch_to_state_change_days  5386 non-null   float64       \n",
      " 45  launch_to_deadline           15685 non-null  int64         \n",
      " 46  creation_to_launch           15685 non-null  int64         \n",
      " 47  launch_year                  15685 non-null  int64         \n",
      " 48  launch_month                 15685 non-null  int64         \n",
      " 49  deadline_year                15685 non-null  int64         \n",
      "dtypes: bool(3), datetime64[ns](4), float64(9), int64(25), object(9)\n",
      "memory usage: 5.8+ MB\n"
     ]
    }
   ],
   "source": [
    "df1.info()"
   ]
  },
  {
   "cell_type": "code",
   "execution_count": 14,
   "metadata": {
    "colab": {
     "base_uri": "https://localhost:8080/"
    },
    "id": "jUca_bitiIaW",
    "outputId": "5daadabc-5d4e-4275-b88f-5100e91211a2"
   },
   "outputs": [
    {
     "data": {
      "text/plain": [
       "(15685, 50)"
      ]
     },
     "execution_count": 14,
     "metadata": {},
     "output_type": "execute_result"
    }
   ],
   "source": [
    "df1.shape"
   ]
  },
  {
   "cell_type": "code",
   "execution_count": 15,
   "metadata": {
    "colab": {
     "base_uri": "https://localhost:8080/"
    },
    "id": "QXHjpPPxnGB6",
    "outputId": "eea054b4-762c-4440-96aa-d0b391ea7916"
   },
   "outputs": [
    {
     "data": {
      "text/plain": [
       "project_id                         0\n",
       "name                               0\n",
       "goal                               0\n",
       "pledged                            0\n",
       "state                              0\n",
       "disable_communication              0\n",
       "country                            0\n",
       "currency                           0\n",
       "deadline                           0\n",
       "state_changed_at                   0\n",
       "created_at                         0\n",
       "launched_at                        0\n",
       "staff_pick                         0\n",
       "backers_count                      0\n",
       "static_usd_rate                    0\n",
       "usd_pledged                        0\n",
       "category                        1471\n",
       "spotlight                          0\n",
       "name_len                           0\n",
       "name_len_clean                     0\n",
       "blurb_len                          0\n",
       "blurb_len_clean                    0\n",
       "deadline_weekday                   0\n",
       "state_changed_at_weekday           0\n",
       "created_at_weekday                 0\n",
       "launched_at_weekday                0\n",
       "deadline_month                     0\n",
       "deadline_day                       0\n",
       "deadline_yr                        0\n",
       "deadline_hr                        0\n",
       "state_changed_at_month             0\n",
       "state_changed_at_day               0\n",
       "state_changed_at_yr                0\n",
       "state_changed_at_hr                0\n",
       "created_at_month                   0\n",
       "created_at_day                     0\n",
       "created_at_yr                      0\n",
       "created_at_hr                      0\n",
       "launched_at_month                  0\n",
       "launched_at_day                    0\n",
       "launched_at_yr                     0\n",
       "launched_at_hr                     0\n",
       "create_to_launch_days              0\n",
       "launch_to_deadline_days            0\n",
       "launch_to_state_change_days    10299\n",
       "launch_to_deadline                 0\n",
       "creation_to_launch                 0\n",
       "launch_year                        0\n",
       "launch_month                       0\n",
       "deadline_year                      0\n",
       "dtype: int64"
      ]
     },
     "execution_count": 15,
     "metadata": {},
     "output_type": "execute_result"
    }
   ],
   "source": [
    "df1.isnull().sum()\n",
    "\n",
    "# category and launch_to_state_change_days contains na values but i noticed removing launch_to_state_change_days also removed failure observations from state column.\n"
   ]
  },
  {
   "cell_type": "code",
   "execution_count": 16,
   "metadata": {
    "id": "4Zpbft1lNVlo"
   },
   "outputs": [],
   "source": [
    "# drop na values from category column\n",
    "df1.dropna(subset=[\"category\"],inplace=True)"
   ]
  },
  {
   "cell_type": "code",
   "execution_count": 17,
   "metadata": {
    "colab": {
     "base_uri": "https://localhost:8080/"
    },
    "id": "K2i59DJxYxOt",
    "outputId": "fc953b5c-01e6-42dc-af05-b024d00af59d"
   },
   "outputs": [
    {
     "data": {
      "text/plain": [
       "project_id                        0\n",
       "name                              0\n",
       "goal                              0\n",
       "pledged                           0\n",
       "state                             0\n",
       "disable_communication             0\n",
       "country                           0\n",
       "currency                          0\n",
       "deadline                          0\n",
       "state_changed_at                  0\n",
       "created_at                        0\n",
       "launched_at                       0\n",
       "staff_pick                        0\n",
       "backers_count                     0\n",
       "static_usd_rate                   0\n",
       "usd_pledged                       0\n",
       "category                          0\n",
       "spotlight                         0\n",
       "name_len                          0\n",
       "name_len_clean                    0\n",
       "blurb_len                         0\n",
       "blurb_len_clean                   0\n",
       "deadline_weekday                  0\n",
       "state_changed_at_weekday          0\n",
       "created_at_weekday                0\n",
       "launched_at_weekday               0\n",
       "deadline_month                    0\n",
       "deadline_day                      0\n",
       "deadline_yr                       0\n",
       "deadline_hr                       0\n",
       "state_changed_at_month            0\n",
       "state_changed_at_day              0\n",
       "state_changed_at_yr               0\n",
       "state_changed_at_hr               0\n",
       "created_at_month                  0\n",
       "created_at_day                    0\n",
       "created_at_yr                     0\n",
       "created_at_hr                     0\n",
       "launched_at_month                 0\n",
       "launched_at_day                   0\n",
       "launched_at_yr                    0\n",
       "launched_at_hr                    0\n",
       "create_to_launch_days             0\n",
       "launch_to_deadline_days           0\n",
       "launch_to_state_change_days    9535\n",
       "launch_to_deadline                0\n",
       "creation_to_launch                0\n",
       "launch_year                       0\n",
       "launch_month                      0\n",
       "deadline_year                     0\n",
       "dtype: int64"
      ]
     },
     "execution_count": 17,
     "metadata": {},
     "output_type": "execute_result"
    }
   ],
   "source": [
    "df1.isnull().sum()"
   ]
  },
  {
   "cell_type": "code",
   "execution_count": 18,
   "metadata": {
    "colab": {
     "base_uri": "https://localhost:8080/"
    },
    "id": "nwibGVPptffN",
    "outputId": "93afd885-a118-40d8-a167-9d94910b8169"
   },
   "outputs": [
    {
     "name": "stdout",
     "output_type": "stream",
     "text": [
      "there are 0 duplicated instances in the dataset\n"
     ]
    }
   ],
   "source": [
    "# check duplicates\n",
    "\n",
    "x= len(df1[df1.duplicated(subset=\"project_id\")])\n",
    "print(f'there are {x} duplicated instances in the dataset')\n",
    "\n",
    "\n",
    "\n"
   ]
  },
  {
   "cell_type": "code",
   "execution_count": 19,
   "metadata": {
    "colab": {
     "base_uri": "https://localhost:8080/"
    },
    "id": "NRV6HxCMY96v",
    "outputId": "a9a55e84-6cf1-4fd8-90ba-640eaa1b5da7"
   },
   "outputs": [
    {
     "data": {
      "text/plain": [
       "failed        9535\n",
       "successful    4679\n",
       "Name: state, dtype: int64"
      ]
     },
     "execution_count": 19,
     "metadata": {},
     "output_type": "execute_result"
    }
   ],
   "source": [
    "df1.state.value_counts()"
   ]
  },
  {
   "cell_type": "markdown",
   "metadata": {
    "id": "P2JbYjgvsxJF"
   },
   "source": [
    "## Exploratory Data Analysis"
   ]
  },
  {
   "cell_type": "code",
   "execution_count": 20,
   "metadata": {
    "id": "UQIiUxTRrDQ2"
   },
   "outputs": [],
   "source": [
    "# converting the goal amount in USD amount to normailize\n",
    "\n",
    "df1[\"usd_goal\"]= round(df1[\"goal\"]* df1[\"static_usd_rate\"], 2)"
   ]
  },
  {
   "cell_type": "code",
   "execution_count": 21,
   "metadata": {
    "colab": {
     "base_uri": "https://localhost:8080/",
     "height": 302
    },
    "id": "VxVnRKXHQ5na",
    "outputId": "ea7e3189-ebe9-4399-b475-5a966688d1cd"
   },
   "outputs": [
    {
     "data": {
      "text/plain": [
       "<AxesSubplot:xlabel='creation_to_launch', ylabel='Count'>"
      ]
     },
     "execution_count": 21,
     "metadata": {},
     "output_type": "execute_result"
    },
    {
     "data": {
      "image/png": "[encoded data removed]",
      "text/plain": [
       "<Figure size 432x288 with 1 Axes>"
      ]
     },
     "metadata": {},
     "output_type": "display_data"
    }
   ],
   "source": [
    "# comparing creation and launch dates\n",
    "\n",
    "# the plot shows most projects get created and get launched right way\n",
    "bins= [_*5 for _ in range(0,20)]\n",
    "sns.histplot(df1.creation_to_launch, bins= bins)"
   ]
  },
  {
   "cell_type": "code",
   "execution_count": 22,
   "metadata": {
    "colab": {
     "base_uri": "https://localhost:8080/",
     "height": 299
    },
    "id": "DUk-pH32Q5vo",
    "outputId": "5339cf4a-f4cf-4d9c-862f-6a64452e3f3b"
   },
   "outputs": [
    {
     "data": {
      "image/png": "[encoded data removed]",
      "text/plain": [
       "<Figure size 432x288 with 1 Axes>"
      ]
     },
     "metadata": {},
     "output_type": "display_data"
    }
   ],
   "source": [
    "# examining campaign launch dates by year\n",
    "\n",
    "plt.title(\"Number of campaign launches by year\")\n",
    "df1.launched_at_yr.value_counts(sort=True, ascending=True).plot(kind=\"bar\",rot=0);\n",
    "plt.xlabel('year');\n",
    "plt.ylabel('frequency');"
   ]
  },
  {
   "cell_type": "code",
   "execution_count": 23,
   "metadata": {
    "colab": {
     "base_uri": "https://localhost:8080/",
     "height": 299
    },
    "id": "F67jEoLsjxjr",
    "outputId": "2491732e-1a38-4b62-bee1-c57188ebe49f"
   },
   "outputs": [
    {
     "data": {
      "image/png": "[encoded data removed]",
      "text/plain": [
       "<Figure size 432x288 with 1 Axes>"
      ]
     },
     "metadata": {},
     "output_type": "display_data"
    }
   ],
   "source": [
    "# examining campaign launch dates by month\n",
    "\n",
    "plt.title(\"Number of campaign launches by month\")\n",
    "df1.launched_at_month.value_counts(sort=True, ascending=True).plot(kind=\"bar\",rot=0);\n",
    "plt.xlabel('month');\n",
    "plt.ylabel('frequency');"
   ]
  },
  {
   "cell_type": "code",
   "execution_count": 24,
   "metadata": {
    "colab": {
     "base_uri": "https://localhost:8080/",
     "height": 299
    },
    "id": "fBtkpBkhk7cp",
    "outputId": "92e0d4d0-4363-4f85-ce26-bc8b08aaa9d6"
   },
   "outputs": [
    {
     "data": {
      "image/png": "[encoded data removed]",
      "text/plain": [
       "<Figure size 432x288 with 1 Axes>"
      ]
     },
     "metadata": {},
     "output_type": "display_data"
    }
   ],
   "source": [
    "# examining campaign by deadline month\n",
    "# month 8 and 12 had the highest number of deadline date, the campaign launched previous month and it make sense most projects are within one month\n",
    "\n",
    "plt.title(\"Number of campaign deadline by month\")\n",
    "df1.deadline_month.value_counts(sort=True, ascending=True).plot(kind=\"bar\",rot=0);\n",
    "plt.xlabel('month');\n",
    "plt.ylabel('frequency');"
   ]
  },
  {
   "cell_type": "code",
   "execution_count": 28,
   "metadata": {
    "colab": {
     "base_uri": "https://localhost:8080/",
     "height": 444
    },
    "id": "JtY7utd95Kv5",
    "outputId": "2ba92309-5db4-4083-977e-c6b2a6eb7970"
   },
   "outputs": [
    {
     "name": "stdout",
     "output_type": "stream",
     "text": [
      "failed        0.670818\n",
      "successful    0.329182\n",
      "Name: state, dtype: float64\n"
     ]
    },
    {
     "data": {
      "image/png": "[encoded data removed]",
      "text/plain": [
       "<Figure size 720x360 with 1 Axes>"
      ]
     },
     "metadata": {},
     "output_type": "display_data"
    }
   ],
   "source": [
    "target = df1.state.value_counts(normalize=True) \n",
    "print(target)\n",
    "plt.figure(figsize=(10,5))\n",
    "sns.barplot(target.index, target.values)\n",
    "plt.title('Kickstarter Success Ratio')\n",
    "plt.ylabel('Percentage of Campaign', fontsize=12);"
   ]
  },
  {
   "cell_type": "code",
   "execution_count": 29,
   "metadata": {
    "colab": {
     "base_uri": "https://localhost:8080/",
     "height": 392
    },
    "id": "3PuT1H455Kyt",
    "outputId": "a28b6ff0-67b2-4e42-9df4-3b20e59b6b62"
   },
   "outputs": [
    {
     "data": {
      "image/png": "[encoded data removed]",
      "text/plain": [
       "<Figure size 1152x360 with 1 Axes>"
      ]
     },
     "metadata": {},
     "output_type": "display_data"
    }
   ],
   "source": [
    "country_list = df1.country.value_counts()\n",
    "plt.figure(figsize=(16,5))\n",
    "sns.barplot(country_list.index, country_list.values, alpha=0.8, color= \"green\")\n",
    "plt.title('Kickstarter Countries')\n",
    "plt.ylabel('Number of Campaigns', fontsize=12);"
   ]
  },
  {
   "cell_type": "markdown",
   "metadata": {
    "id": "qLIt8WL4ellL"
   },
   "source": [
    "# Feature Engineering"
   ]
  },
  {
   "cell_type": "code",
   "execution_count": 30,
   "metadata": {
    "colab": {
     "base_uri": "https://localhost:8080/"
    },
    "id": "QuXrPeAq6eHs",
    "outputId": "716eeaf2-0c08-4e05-ebbf-b97496f2673f"
   },
   "outputs": [
    {
     "data": {
      "text/plain": [
       "0    9535\n",
       "1    4679\n",
       "Name: success, dtype: int64"
      ]
     },
     "execution_count": 30,
     "metadata": {},
     "output_type": "execute_result"
    }
   ],
   "source": [
    "# dummify state\n",
    "df1['state'] = df1.state.astype(str)\n",
    "df1['success'] = np.where(df1.state == \"successful\", 1, 0)\n",
    "df1.success.value_counts()\n"
   ]
  },
  {
   "cell_type": "code",
   "execution_count": 31,
   "metadata": {
    "colab": {
     "base_uri": "https://localhost:8080/",
     "height": 744
    },
    "id": "Su_Dt15j58b5",
    "outputId": "ca495164-ab7d-41e5-b149-0da25701ec91"
   },
   "outputs": [
    {
     "name": "stdout",
     "output_type": "stream",
     "text": [
      "country\n",
      "AT       6\n",
      "AU      79\n",
      "BE       2\n",
      "CA     168\n",
      "CH      18\n",
      "DE      66\n",
      "DK      16\n",
      "ES      18\n",
      "FR      51\n",
      "GB     714\n",
      "HK       8\n",
      "IE      19\n",
      "IT      12\n",
      "LU       1\n",
      "MX       9\n",
      "NL      47\n",
      "NO       7\n",
      "NZ      19\n",
      "SE      13\n",
      "SG       5\n",
      "US    3401\n",
      "dtype: int64\n"
     ]
    },
    {
     "data": {
      "image/png": "[encoded data removed]",
      "text/plain": [
       "<Figure size 1152x360 with 1 Axes>"
      ]
     },
     "metadata": {},
     "output_type": "display_data"
    }
   ],
   "source": [
    "\n",
    "# which countries has the highest success rate\n",
    "country_success = df1[df1.success == 1].groupby(['country']).size()\n",
    "print(country_success)\n",
    "\n",
    "plt.figure(figsize=(16,5))\n",
    "sns.barplot(x=country_success.index, y=country_success.values, color=\"green\")\n",
    "plt.xticks(rotation=45);"
   ]
  },
  {
   "cell_type": "code",
   "execution_count": 32,
   "metadata": {
    "colab": {
     "base_uri": "https://localhost:8080/",
     "height": 744
    },
    "id": "zy72GeyY6doB",
    "outputId": "b643d41e-197d-4bab-a1da-a3fa879607ae"
   },
   "outputs": [
    {
     "name": "stdout",
     "output_type": "stream",
     "text": [
      "country\n",
      "AT      31\n",
      "AU     363\n",
      "BE      29\n",
      "CA     556\n",
      "CH      43\n",
      "DE     171\n",
      "DK      75\n",
      "ES     106\n",
      "FR     152\n",
      "GB    1053\n",
      "HK       8\n",
      "IE      38\n",
      "IT     154\n",
      "LU       1\n",
      "MX      22\n",
      "NL     181\n",
      "NO      34\n",
      "NZ      57\n",
      "SE      51\n",
      "SG       7\n",
      "US    6403\n",
      "dtype: int64\n"
     ]
    },
    {
     "data": {
      "image/png": "[encoded data removed]",
      "text/plain": [
       "<Figure size 1152x360 with 1 Axes>"
      ]
     },
     "metadata": {},
     "output_type": "display_data"
    }
   ],
   "source": [
    "# which countries has the lowest success rate\n",
    "country_fail = df1[df1.success == 0].groupby(['country']).size()\n",
    "print(country_fail)\n",
    "\n",
    "plt.figure(figsize=(16,5))\n",
    "sns.barplot(x=country_fail.index, y=country_fail.values, color=\"red\")\n",
    "plt.xticks(rotation=45);"
   ]
  },
  {
   "cell_type": "code",
   "execution_count": 33,
   "metadata": {
    "id": "dBF7V7nJ58e8"
   },
   "outputs": [],
   "source": [
    "country_dict = {'AT':'OTHER', 'AU': 'OTHER', 'BE':'OTHER', 'CA': 'OTHER', 'CH':'OTHER', 'DE':'OTHER','DK':'OTHER', 'ES': 'OTHER', 'FR': 'OTHER',\n",
    " 'GB': 'OTHER', 'HK': 'OTHER', 'IE':'OTHER','IT': 'OTHER','LU':'OTHER', 'MX': 'OTHER', 'NL': 'OTHER','NO':'OTHER','NZ':'OTHER', 'SE': 'OTHER','SG':'OTHER'}\n",
    "df1 = df1.replace({\"country\": country_dict})\n"
   ]
  },
  {
   "cell_type": "code",
   "execution_count": 34,
   "metadata": {
    "colab": {
     "base_uri": "https://localhost:8080/",
     "height": 427
    },
    "id": "-0Tdf6Gu58j2",
    "outputId": "5a1f96a3-6e26-4105-b651-ac18e65cfcf8"
   },
   "outputs": [
    {
     "name": "stdout",
     "output_type": "stream",
     "text": [
      "country\n",
      "OTHER    1278\n",
      "US       3401\n",
      "dtype: int64\n"
     ]
    },
    {
     "data": {
      "image/png": "[encoded data removed]",
      "text/plain": [
       "<Figure size 1152x360 with 1 Axes>"
      ]
     },
     "metadata": {},
     "output_type": "display_data"
    }
   ],
   "source": [
    "country_success = df1[df1.success == 1].groupby(['country']).size()\n",
    "print(country_success)\n",
    "\n",
    "plt.figure(figsize=(16,5))\n",
    "sns.barplot(x=country_success.index, y=country_success.values)\n",
    "plt.xticks(rotation=45);"
   ]
  },
  {
   "cell_type": "code",
   "execution_count": 35,
   "metadata": {
    "colab": {
     "base_uri": "https://localhost:8080/"
    },
    "id": "t2zodYSSPTKz",
    "outputId": "05ca48d9-5c13-48ff-fd82-285b3fb866b7"
   },
   "outputs": [
    {
     "data": {
      "text/plain": [
       "Index(['project_id', 'name', 'goal', 'pledged', 'state',\n",
       "       'disable_communication', 'currency', 'deadline', 'state_changed_at',\n",
       "       'created_at', 'launched_at', 'staff_pick', 'backers_count',\n",
       "       'static_usd_rate', 'usd_pledged', 'category', 'spotlight', 'name_len',\n",
       "       'name_len_clean', 'blurb_len', 'blurb_len_clean', 'deadline_weekday',\n",
       "       'state_changed_at_weekday', 'created_at_weekday', 'launched_at_weekday',\n",
       "       'deadline_month', 'deadline_day', 'deadline_yr', 'deadline_hr',\n",
       "       'state_changed_at_month', 'state_changed_at_day', 'state_changed_at_yr',\n",
       "       'state_changed_at_hr', 'created_at_month', 'created_at_day',\n",
       "       'created_at_yr', 'created_at_hr', 'launched_at_month',\n",
       "       'launched_at_day', 'launched_at_yr', 'launched_at_hr',\n",
       "       'create_to_launch_days', 'launch_to_deadline_days',\n",
       "       'launch_to_state_change_days', 'launch_to_deadline',\n",
       "       'creation_to_launch', 'launch_year', 'launch_month', 'deadline_year',\n",
       "       'usd_goal', 'success', 'country_US'],\n",
       "      dtype='object')"
      ]
     },
     "execution_count": 35,
     "metadata": {},
     "output_type": "execute_result"
    }
   ],
   "source": [
    "# Make dummies\n",
    "df1 = pd.get_dummies(columns=['country'], drop_first=True, data=df1)\n",
    "df1.columns"
   ]
  },
  {
   "cell_type": "code",
   "execution_count": 36,
   "metadata": {
    "colab": {
     "base_uri": "https://localhost:8080/"
    },
    "id": "lTEVQLxR58mm",
    "outputId": "5940c205-1992-45a0-f101-1abe74624e6e"
   },
   "outputs": [
    {
     "name": "stdout",
     "output_type": "stream",
     "text": [
      "<class 'pandas.core.frame.DataFrame'>\n",
      "Int64Index: 14214 entries, 0 to 18565\n",
      "Data columns (total 52 columns):\n",
      " #   Column                       Non-Null Count  Dtype         \n",
      "---  ------                       --------------  -----         \n",
      " 0   project_id                   14214 non-null  int64         \n",
      " 1   name                         14214 non-null  object        \n",
      " 2   goal                         14214 non-null  float64       \n",
      " 3   pledged                      14214 non-null  float64       \n",
      " 4   state                        14214 non-null  object        \n",
      " 5   disable_communication        14214 non-null  bool          \n",
      " 6   currency                     14214 non-null  object        \n",
      " 7   deadline                     14214 non-null  datetime64[ns]\n",
      " 8   state_changed_at             14214 non-null  datetime64[ns]\n",
      " 9   created_at                   14214 non-null  datetime64[ns]\n",
      " 10  launched_at                  14214 non-null  datetime64[ns]\n",
      " 11  staff_pick                   14214 non-null  bool          \n",
      " 12  backers_count                14214 non-null  int64         \n",
      " 13  static_usd_rate              14214 non-null  float64       \n",
      " 14  usd_pledged                  14214 non-null  float64       \n",
      " 15  category                     14214 non-null  object        \n",
      " 16  spotlight                    14214 non-null  bool          \n",
      " 17  name_len                     14214 non-null  float64       \n",
      " 18  name_len_clean               14214 non-null  float64       \n",
      " 19  blurb_len                    14214 non-null  float64       \n",
      " 20  blurb_len_clean              14214 non-null  float64       \n",
      " 21  deadline_weekday             14214 non-null  object        \n",
      " 22  state_changed_at_weekday     14214 non-null  object        \n",
      " 23  created_at_weekday           14214 non-null  object        \n",
      " 24  launched_at_weekday          14214 non-null  object        \n",
      " 25  deadline_month               14214 non-null  int64         \n",
      " 26  deadline_day                 14214 non-null  int64         \n",
      " 27  deadline_yr                  14214 non-null  int64         \n",
      " 28  deadline_hr                  14214 non-null  int64         \n",
      " 29  state_changed_at_month       14214 non-null  int64         \n",
      " 30  state_changed_at_day         14214 non-null  int64         \n",
      " 31  state_changed_at_yr          14214 non-null  int64         \n",
      " 32  state_changed_at_hr          14214 non-null  int64         \n",
      " 33  created_at_month             14214 non-null  int64         \n",
      " 34  created_at_day               14214 non-null  int64         \n",
      " 35  created_at_yr                14214 non-null  int64         \n",
      " 36  created_at_hr                14214 non-null  int64         \n",
      " 37  launched_at_month            14214 non-null  int64         \n",
      " 38  launched_at_day              14214 non-null  int64         \n",
      " 39  launched_at_yr               14214 non-null  int64         \n",
      " 40  launched_at_hr               14214 non-null  int64         \n",
      " 41  create_to_launch_days        14214 non-null  int64         \n",
      " 42  launch_to_deadline_days      14214 non-null  int64         \n",
      " 43  launch_to_state_change_days  4679 non-null   float64       \n",
      " 44  launch_to_deadline           14214 non-null  int64         \n",
      " 45  creation_to_launch           14214 non-null  int64         \n",
      " 46  launch_year                  14214 non-null  int64         \n",
      " 47  launch_month                 14214 non-null  int64         \n",
      " 48  deadline_year                14214 non-null  int64         \n",
      " 49  usd_goal                     14214 non-null  float64       \n",
      " 50  success                      14214 non-null  int64         \n",
      " 51  country_US                   14214 non-null  uint8         \n",
      "dtypes: bool(3), datetime64[ns](4), float64(10), int64(26), object(8), uint8(1)\n",
      "memory usage: 5.4+ MB\n"
     ]
    }
   ],
   "source": [
    "df1.info()"
   ]
  },
  {
   "cell_type": "code",
   "execution_count": 37,
   "metadata": {
    "colab": {
     "base_uri": "https://localhost:8080/",
     "height": 746
    },
    "id": "C54RxNKa58pQ",
    "outputId": "31ed16c4-a583-4ec3-a93f-7baed15646d5"
   },
   "outputs": [
    {
     "name": "stdout",
     "output_type": "stream",
     "text": [
      "category\n",
      "Apps            273\n",
      "Blues            17\n",
      "Comedy            1\n",
      "Experimental    164\n",
      "Festivals       248\n",
      "Flight           59\n",
      "Gadgets         565\n",
      "Hardware        987\n",
      "Immersive       127\n",
      "Makerspaces      59\n",
      "Musical         363\n",
      "Plays           606\n",
      "Robots          163\n",
      "Shorts           33\n",
      "Software        294\n",
      "Sound           190\n",
      "Spaces           71\n",
      "Wearables       259\n",
      "Web             200\n",
      "dtype: int64\n"
     ]
    },
    {
     "data": {
      "image/png": "[encoded data removed]",
      "text/plain": [
       "<Figure size 1152x360 with 1 Axes>"
      ]
     },
     "metadata": {},
     "output_type": "display_data"
    }
   ],
   "source": [
    "# main category + success\n",
    "category_success = df1[df1.success == 1].groupby(['category']).size()\n",
    "print(category_success)\n",
    "plt.figure(figsize=(16,5))\n",
    "sns.barplot(x=category_success.index, y=category_success.values)\n",
    "plt.xticks(rotation=45);"
   ]
  },
  {
   "cell_type": "code",
   "execution_count": 38,
   "metadata": {
    "colab": {
     "base_uri": "https://localhost:8080/"
    },
    "id": "ApeReJP75K1Q",
    "outputId": "c4d19dbb-b436-42f5-b430-ea9d86004c0f"
   },
   "outputs": [
    {
     "data": {
      "text/plain": [
       "Index(['project_id', 'name', 'goal', 'pledged', 'state',\n",
       "       'disable_communication', 'currency', 'deadline', 'state_changed_at',\n",
       "       'created_at', 'launched_at', 'staff_pick', 'backers_count',\n",
       "       'static_usd_rate', 'usd_pledged', 'spotlight', 'name_len',\n",
       "       'name_len_clean', 'blurb_len', 'blurb_len_clean', 'deadline_weekday',\n",
       "       'state_changed_at_weekday', 'created_at_weekday', 'launched_at_weekday',\n",
       "       'deadline_month', 'deadline_day', 'deadline_yr', 'deadline_hr',\n",
       "       'state_changed_at_month', 'state_changed_at_day', 'state_changed_at_yr',\n",
       "       'state_changed_at_hr', 'created_at_month', 'created_at_day',\n",
       "       'created_at_yr', 'created_at_hr', 'launched_at_month',\n",
       "       'launched_at_day', 'launched_at_yr', 'launched_at_hr',\n",
       "       'create_to_launch_days', 'launch_to_deadline_days',\n",
       "       'launch_to_state_change_days', 'launch_to_deadline',\n",
       "       'creation_to_launch', 'launch_year', 'launch_month', 'deadline_year',\n",
       "       'usd_goal', 'success', 'country_US', 'category_Apps', 'category_Blues',\n",
       "       'category_Comedy', 'category_Experimental', 'category_Festivals',\n",
       "       'category_Flight', 'category_Gadgets', 'category_Hardware',\n",
       "       'category_Immersive', 'category_Makerspaces', 'category_Musical',\n",
       "       'category_Places', 'category_Plays', 'category_Robots',\n",
       "       'category_Shorts', 'category_Software', 'category_Sound',\n",
       "       'category_Spaces', 'category_Thrillers', 'category_Wearables',\n",
       "       'category_Web', 'category_Webseries'],\n",
       "      dtype='object')"
      ]
     },
     "execution_count": 38,
     "metadata": {},
     "output_type": "execute_result"
    }
   ],
   "source": [
    "# Make category dummies\n",
    "df1 = pd.get_dummies(columns=['category'], drop_first=True, data=df1)\n",
    "df1.columns"
   ]
  },
  {
   "cell_type": "code",
   "execution_count": 39,
   "metadata": {
    "id": "Qh2RI_GvFYHk"
   },
   "outputs": [],
   "source": [
    "# campaign duration, preparation duration\n",
    "from datetime import datetime, date, timedelta\n",
    "\n",
    "prep_date = df1.created_at.values\n",
    "start_date = df1.launched_at.values\n",
    "end_date = df1.deadline.values\n",
    "\n",
    "df1['campaign_duration'] = pd.to_timedelta(end_date - start_date).days\n",
    "df1['preparation_duration'] = pd.to_timedelta(start_date - prep_date).days"
   ]
  },
  {
   "cell_type": "code",
   "execution_count": 40,
   "metadata": {
    "colab": {
     "base_uri": "https://localhost:8080/",
     "height": 473
    },
    "id": "l-cGSZLNFZ1l",
    "outputId": "ff31c65c-ebe3-4a64-ed3c-9c25a9ca2327"
   },
   "outputs": [
    {
     "data": {
      "text/html": [
       "<div>\n",
       "<style scoped>\n",
       "    .dataframe tbody tr th:only-of-type {\n",
       "        vertical-align: middle;\n",
       "    }\n",
       "\n",
       "    .dataframe tbody tr th {\n",
       "        vertical-align: top;\n",
       "    }\n",
       "\n",
       "    .dataframe thead th {\n",
       "        text-align: right;\n",
       "    }\n",
       "</style>\n",
       "<table border=\"1\" class=\"dataframe\">\n",
       "  <thead>\n",
       "    <tr style=\"text-align: right;\">\n",
       "      <th></th>\n",
       "      <th>project_id</th>\n",
       "      <th>name</th>\n",
       "      <th>goal</th>\n",
       "      <th>pledged</th>\n",
       "      <th>state</th>\n",
       "      <th>disable_communication</th>\n",
       "      <th>currency</th>\n",
       "      <th>deadline</th>\n",
       "      <th>state_changed_at</th>\n",
       "      <th>created_at</th>\n",
       "      <th>...</th>\n",
       "      <th>category_Shorts</th>\n",
       "      <th>category_Software</th>\n",
       "      <th>category_Sound</th>\n",
       "      <th>category_Spaces</th>\n",
       "      <th>category_Thrillers</th>\n",
       "      <th>category_Wearables</th>\n",
       "      <th>category_Web</th>\n",
       "      <th>category_Webseries</th>\n",
       "      <th>campaign_duration</th>\n",
       "      <th>preparation_duration</th>\n",
       "    </tr>\n",
       "  </thead>\n",
       "  <tbody>\n",
       "    <tr>\n",
       "      <th>0</th>\n",
       "      <td>14042</td>\n",
       "      <td>Elysian Tuned Aperture Pickups for Electric Gu...</td>\n",
       "      <td>15000.0</td>\n",
       "      <td>4257.0</td>\n",
       "      <td>failed</td>\n",
       "      <td>False</td>\n",
       "      <td>USD</td>\n",
       "      <td>2015-04-05 12:42:40</td>\n",
       "      <td>2015-04-05 12:42:41</td>\n",
       "      <td>2015-03-01 10:36:46</td>\n",
       "      <td>...</td>\n",
       "      <td>0</td>\n",
       "      <td>0</td>\n",
       "      <td>0</td>\n",
       "      <td>0</td>\n",
       "      <td>0</td>\n",
       "      <td>0</td>\n",
       "      <td>0</td>\n",
       "      <td>0</td>\n",
       "      <td>30</td>\n",
       "      <td>5</td>\n",
       "    </tr>\n",
       "    <tr>\n",
       "      <th>1</th>\n",
       "      <td>767</td>\n",
       "      <td>Linker</td>\n",
       "      <td>4000.0</td>\n",
       "      <td>51.0</td>\n",
       "      <td>failed</td>\n",
       "      <td>False</td>\n",
       "      <td>CAD</td>\n",
       "      <td>2014-12-26 08:45:09</td>\n",
       "      <td>2014-12-26 08:45:25</td>\n",
       "      <td>2014-08-28 09:45:56</td>\n",
       "      <td>...</td>\n",
       "      <td>0</td>\n",
       "      <td>0</td>\n",
       "      <td>0</td>\n",
       "      <td>0</td>\n",
       "      <td>0</td>\n",
       "      <td>0</td>\n",
       "      <td>0</td>\n",
       "      <td>0</td>\n",
       "      <td>60</td>\n",
       "      <td>59</td>\n",
       "    </tr>\n",
       "    <tr>\n",
       "      <th>2</th>\n",
       "      <td>2128</td>\n",
       "      <td>Making the Move--Edinburgh Fringe 2014</td>\n",
       "      <td>7750.0</td>\n",
       "      <td>7860.0</td>\n",
       "      <td>successful</td>\n",
       "      <td>False</td>\n",
       "      <td>USD</td>\n",
       "      <td>2014-08-19 11:00:00</td>\n",
       "      <td>2014-08-19 11:00:10</td>\n",
       "      <td>2014-07-30 02:32:04</td>\n",
       "      <td>...</td>\n",
       "      <td>0</td>\n",
       "      <td>0</td>\n",
       "      <td>0</td>\n",
       "      <td>0</td>\n",
       "      <td>0</td>\n",
       "      <td>0</td>\n",
       "      <td>0</td>\n",
       "      <td>0</td>\n",
       "      <td>18</td>\n",
       "      <td>1</td>\n",
       "    </tr>\n",
       "    <tr>\n",
       "      <th>3</th>\n",
       "      <td>17449</td>\n",
       "      <td>Apple Usb Cable Protector</td>\n",
       "      <td>5000.0</td>\n",
       "      <td>1633.0</td>\n",
       "      <td>failed</td>\n",
       "      <td>False</td>\n",
       "      <td>EUR</td>\n",
       "      <td>2015-10-18 16:00:20</td>\n",
       "      <td>2015-10-18 16:00:20</td>\n",
       "      <td>2015-08-16 12:24:07</td>\n",
       "      <td>...</td>\n",
       "      <td>0</td>\n",
       "      <td>0</td>\n",
       "      <td>0</td>\n",
       "      <td>0</td>\n",
       "      <td>0</td>\n",
       "      <td>0</td>\n",
       "      <td>0</td>\n",
       "      <td>0</td>\n",
       "      <td>60</td>\n",
       "      <td>3</td>\n",
       "    </tr>\n",
       "  </tbody>\n",
       "</table>\n",
       "<p>4 rows × 75 columns</p>\n",
       "</div>"
      ],
      "text/plain": [
       "   project_id                                               name     goal  \\\n",
       "0       14042  Elysian Tuned Aperture Pickups for Electric Gu...  15000.0   \n",
       "1         767                                             Linker   4000.0   \n",
       "2        2128             Making the Move--Edinburgh Fringe 2014   7750.0   \n",
       "3       17449                          Apple Usb Cable Protector   5000.0   \n",
       "\n",
       "   pledged       state  disable_communication currency            deadline  \\\n",
       "0   4257.0      failed                  False      USD 2015-04-05 12:42:40   \n",
       "1     51.0      failed                  False      CAD 2014-12-26 08:45:09   \n",
       "2   7860.0  successful                  False      USD 2014-08-19 11:00:00   \n",
       "3   1633.0      failed                  False      EUR 2015-10-18 16:00:20   \n",
       "\n",
       "     state_changed_at          created_at  ... category_Shorts  \\\n",
       "0 2015-04-05 12:42:41 2015-03-01 10:36:46  ...               0   \n",
       "1 2014-12-26 08:45:25 2014-08-28 09:45:56  ...               0   \n",
       "2 2014-08-19 11:00:10 2014-07-30 02:32:04  ...               0   \n",
       "3 2015-10-18 16:00:20 2015-08-16 12:24:07  ...               0   \n",
       "\n",
       "   category_Software  category_Sound  category_Spaces  category_Thrillers  \\\n",
       "0                  0               0                0                   0   \n",
       "1                  0               0                0                   0   \n",
       "2                  0               0                0                   0   \n",
       "3                  0               0                0                   0   \n",
       "\n",
       "   category_Wearables  category_Web  category_Webseries  campaign_duration  \\\n",
       "0                   0             0                   0                 30   \n",
       "1                   0             0                   0                 60   \n",
       "2                   0             0                   0                 18   \n",
       "3                   0             0                   0                 60   \n",
       "\n",
       "   preparation_duration  \n",
       "0                     5  \n",
       "1                    59  \n",
       "2                     1  \n",
       "3                     3  \n",
       "\n",
       "[4 rows x 75 columns]"
      ]
     },
     "execution_count": 40,
     "metadata": {},
     "output_type": "execute_result"
    }
   ],
   "source": [
    "df1.head(4)"
   ]
  },
  {
   "cell_type": "code",
   "execution_count": 41,
   "metadata": {
    "colab": {
     "base_uri": "https://localhost:8080/",
     "height": 469
    },
    "id": "9AzoV-JSL7Jk",
    "outputId": "2f317e44-604d-4f60-96db-ee74757e8f08"
   },
   "outputs": [
    {
     "data": {
      "text/html": [
       "<div>\n",
       "<style scoped>\n",
       "    .dataframe tbody tr th:only-of-type {\n",
       "        vertical-align: middle;\n",
       "    }\n",
       "\n",
       "    .dataframe tbody tr th {\n",
       "        vertical-align: top;\n",
       "    }\n",
       "\n",
       "    .dataframe thead th {\n",
       "        text-align: right;\n",
       "    }\n",
       "</style>\n",
       "<table border=\"1\" class=\"dataframe\">\n",
       "  <thead>\n",
       "    <tr style=\"text-align: right;\">\n",
       "      <th></th>\n",
       "      <th>project_id</th>\n",
       "      <th>name</th>\n",
       "      <th>goal</th>\n",
       "      <th>pledged</th>\n",
       "      <th>state</th>\n",
       "      <th>disable_communication</th>\n",
       "      <th>currency</th>\n",
       "      <th>deadline</th>\n",
       "      <th>state_changed_at</th>\n",
       "      <th>created_at</th>\n",
       "      <th>...</th>\n",
       "      <th>category_Sound</th>\n",
       "      <th>category_Spaces</th>\n",
       "      <th>category_Thrillers</th>\n",
       "      <th>category_Wearables</th>\n",
       "      <th>category_Web</th>\n",
       "      <th>category_Webseries</th>\n",
       "      <th>campaign_duration</th>\n",
       "      <th>preparation_duration</th>\n",
       "      <th>spotlight_True</th>\n",
       "      <th>staff_pick_True</th>\n",
       "    </tr>\n",
       "  </thead>\n",
       "  <tbody>\n",
       "    <tr>\n",
       "      <th>0</th>\n",
       "      <td>14042</td>\n",
       "      <td>Elysian Tuned Aperture Pickups for Electric Gu...</td>\n",
       "      <td>15000.0</td>\n",
       "      <td>4257.0</td>\n",
       "      <td>failed</td>\n",
       "      <td>False</td>\n",
       "      <td>USD</td>\n",
       "      <td>2015-04-05 12:42:40</td>\n",
       "      <td>2015-04-05 12:42:41</td>\n",
       "      <td>2015-03-01 10:36:46</td>\n",
       "      <td>...</td>\n",
       "      <td>0</td>\n",
       "      <td>0</td>\n",
       "      <td>0</td>\n",
       "      <td>0</td>\n",
       "      <td>0</td>\n",
       "      <td>0</td>\n",
       "      <td>30</td>\n",
       "      <td>5</td>\n",
       "      <td>0</td>\n",
       "      <td>0</td>\n",
       "    </tr>\n",
       "    <tr>\n",
       "      <th>1</th>\n",
       "      <td>767</td>\n",
       "      <td>Linker</td>\n",
       "      <td>4000.0</td>\n",
       "      <td>51.0</td>\n",
       "      <td>failed</td>\n",
       "      <td>False</td>\n",
       "      <td>CAD</td>\n",
       "      <td>2014-12-26 08:45:09</td>\n",
       "      <td>2014-12-26 08:45:25</td>\n",
       "      <td>2014-08-28 09:45:56</td>\n",
       "      <td>...</td>\n",
       "      <td>0</td>\n",
       "      <td>0</td>\n",
       "      <td>0</td>\n",
       "      <td>0</td>\n",
       "      <td>0</td>\n",
       "      <td>0</td>\n",
       "      <td>60</td>\n",
       "      <td>59</td>\n",
       "      <td>0</td>\n",
       "      <td>0</td>\n",
       "    </tr>\n",
       "    <tr>\n",
       "      <th>2</th>\n",
       "      <td>2128</td>\n",
       "      <td>Making the Move--Edinburgh Fringe 2014</td>\n",
       "      <td>7750.0</td>\n",
       "      <td>7860.0</td>\n",
       "      <td>successful</td>\n",
       "      <td>False</td>\n",
       "      <td>USD</td>\n",
       "      <td>2014-08-19 11:00:00</td>\n",
       "      <td>2014-08-19 11:00:10</td>\n",
       "      <td>2014-07-30 02:32:04</td>\n",
       "      <td>...</td>\n",
       "      <td>0</td>\n",
       "      <td>0</td>\n",
       "      <td>0</td>\n",
       "      <td>0</td>\n",
       "      <td>0</td>\n",
       "      <td>0</td>\n",
       "      <td>18</td>\n",
       "      <td>1</td>\n",
       "      <td>1</td>\n",
       "      <td>0</td>\n",
       "    </tr>\n",
       "    <tr>\n",
       "      <th>3</th>\n",
       "      <td>17449</td>\n",
       "      <td>Apple Usb Cable Protector</td>\n",
       "      <td>5000.0</td>\n",
       "      <td>1633.0</td>\n",
       "      <td>failed</td>\n",
       "      <td>False</td>\n",
       "      <td>EUR</td>\n",
       "      <td>2015-10-18 16:00:20</td>\n",
       "      <td>2015-10-18 16:00:20</td>\n",
       "      <td>2015-08-16 12:24:07</td>\n",
       "      <td>...</td>\n",
       "      <td>0</td>\n",
       "      <td>0</td>\n",
       "      <td>0</td>\n",
       "      <td>0</td>\n",
       "      <td>0</td>\n",
       "      <td>0</td>\n",
       "      <td>60</td>\n",
       "      <td>3</td>\n",
       "      <td>0</td>\n",
       "      <td>0</td>\n",
       "    </tr>\n",
       "    <tr>\n",
       "      <th>4</th>\n",
       "      <td>10959</td>\n",
       "      <td>Simple Work Attendance Sheet (S.work.a.S.)</td>\n",
       "      <td>1300.0</td>\n",
       "      <td>16.0</td>\n",
       "      <td>failed</td>\n",
       "      <td>False</td>\n",
       "      <td>EUR</td>\n",
       "      <td>2015-11-06 08:49:35</td>\n",
       "      <td>2015-11-06 08:49:35</td>\n",
       "      <td>2015-09-15 11:36:44</td>\n",
       "      <td>...</td>\n",
       "      <td>0</td>\n",
       "      <td>0</td>\n",
       "      <td>0</td>\n",
       "      <td>0</td>\n",
       "      <td>0</td>\n",
       "      <td>0</td>\n",
       "      <td>25</td>\n",
       "      <td>26</td>\n",
       "      <td>0</td>\n",
       "      <td>0</td>\n",
       "    </tr>\n",
       "  </tbody>\n",
       "</table>\n",
       "<p>5 rows × 75 columns</p>\n",
       "</div>"
      ],
      "text/plain": [
       "   project_id                                               name     goal  \\\n",
       "0       14042  Elysian Tuned Aperture Pickups for Electric Gu...  15000.0   \n",
       "1         767                                             Linker   4000.0   \n",
       "2        2128             Making the Move--Edinburgh Fringe 2014   7750.0   \n",
       "3       17449                          Apple Usb Cable Protector   5000.0   \n",
       "4       10959         Simple Work Attendance Sheet (S.work.a.S.)   1300.0   \n",
       "\n",
       "   pledged       state  disable_communication currency            deadline  \\\n",
       "0   4257.0      failed                  False      USD 2015-04-05 12:42:40   \n",
       "1     51.0      failed                  False      CAD 2014-12-26 08:45:09   \n",
       "2   7860.0  successful                  False      USD 2014-08-19 11:00:00   \n",
       "3   1633.0      failed                  False      EUR 2015-10-18 16:00:20   \n",
       "4     16.0      failed                  False      EUR 2015-11-06 08:49:35   \n",
       "\n",
       "     state_changed_at          created_at  ... category_Sound  \\\n",
       "0 2015-04-05 12:42:41 2015-03-01 10:36:46  ...              0   \n",
       "1 2014-12-26 08:45:25 2014-08-28 09:45:56  ...              0   \n",
       "2 2014-08-19 11:00:10 2014-07-30 02:32:04  ...              0   \n",
       "3 2015-10-18 16:00:20 2015-08-16 12:24:07  ...              0   \n",
       "4 2015-11-06 08:49:35 2015-09-15 11:36:44  ...              0   \n",
       "\n",
       "   category_Spaces  category_Thrillers  category_Wearables  category_Web  \\\n",
       "0                0                   0                   0             0   \n",
       "1                0                   0                   0             0   \n",
       "2                0                   0                   0             0   \n",
       "3                0                   0                   0             0   \n",
       "4                0                   0                   0             0   \n",
       "\n",
       "   category_Webseries  campaign_duration  preparation_duration spotlight_True  \\\n",
       "0                   0                 30                     5              0   \n",
       "1                   0                 60                    59              0   \n",
       "2                   0                 18                     1              1   \n",
       "3                   0                 60                     3              0   \n",
       "4                   0                 25                    26              0   \n",
       "\n",
       "  staff_pick_True  \n",
       "0               0  \n",
       "1               0  \n",
       "2               0  \n",
       "3               0  \n",
       "4               0  \n",
       "\n",
       "[5 rows x 75 columns]"
      ]
     },
     "execution_count": 41,
     "metadata": {},
     "output_type": "execute_result"
    }
   ],
   "source": [
    "# spotlight and staff_pick\n",
    "df1 = pd.get_dummies(columns = ['spotlight','staff_pick'], drop_first=True, data=df1)\n",
    "df1.head(5)"
   ]
  },
  {
   "cell_type": "code",
   "execution_count": 42,
   "metadata": {
    "colab": {
     "base_uri": "https://localhost:8080/",
     "height": 226
    },
    "id": "vuk7BhXuM7sJ",
    "outputId": "80c0d370-a2fd-4194-d33c-a17e4a173568"
   },
   "outputs": [
    {
     "data": {
      "text/html": [
       "<div>\n",
       "<style scoped>\n",
       "    .dataframe tbody tr th:only-of-type {\n",
       "        vertical-align: middle;\n",
       "    }\n",
       "\n",
       "    .dataframe tbody tr th {\n",
       "        vertical-align: top;\n",
       "    }\n",
       "\n",
       "    .dataframe thead th {\n",
       "        text-align: right;\n",
       "    }\n",
       "</style>\n",
       "<table border=\"1\" class=\"dataframe\">\n",
       "  <thead>\n",
       "    <tr style=\"text-align: right;\">\n",
       "      <th></th>\n",
       "      <th>usd_goal</th>\n",
       "      <th>success</th>\n",
       "      <th>country_US</th>\n",
       "      <th>campaign_duration</th>\n",
       "      <th>preparation_duration</th>\n",
       "      <th>category_Apps</th>\n",
       "      <th>category_Blues</th>\n",
       "      <th>category_Comedy</th>\n",
       "      <th>category_Experimental</th>\n",
       "      <th>category_Festivals</th>\n",
       "      <th>...</th>\n",
       "      <th>category_Plays</th>\n",
       "      <th>category_Robots</th>\n",
       "      <th>category_Shorts</th>\n",
       "      <th>category_Software</th>\n",
       "      <th>category_Sound</th>\n",
       "      <th>category_Spaces</th>\n",
       "      <th>category_Thrillers</th>\n",
       "      <th>category_Wearables</th>\n",
       "      <th>category_Web</th>\n",
       "      <th>category_Webseries</th>\n",
       "    </tr>\n",
       "  </thead>\n",
       "  <tbody>\n",
       "    <tr>\n",
       "      <th>0</th>\n",
       "      <td>15000.00</td>\n",
       "      <td>0</td>\n",
       "      <td>1</td>\n",
       "      <td>30</td>\n",
       "      <td>5</td>\n",
       "      <td>0</td>\n",
       "      <td>0</td>\n",
       "      <td>0</td>\n",
       "      <td>0</td>\n",
       "      <td>0</td>\n",
       "      <td>...</td>\n",
       "      <td>0</td>\n",
       "      <td>0</td>\n",
       "      <td>0</td>\n",
       "      <td>0</td>\n",
       "      <td>0</td>\n",
       "      <td>0</td>\n",
       "      <td>0</td>\n",
       "      <td>0</td>\n",
       "      <td>0</td>\n",
       "      <td>0</td>\n",
       "    </tr>\n",
       "    <tr>\n",
       "      <th>1</th>\n",
       "      <td>3560.19</td>\n",
       "      <td>0</td>\n",
       "      <td>0</td>\n",
       "      <td>60</td>\n",
       "      <td>59</td>\n",
       "      <td>1</td>\n",
       "      <td>0</td>\n",
       "      <td>0</td>\n",
       "      <td>0</td>\n",
       "      <td>0</td>\n",
       "      <td>...</td>\n",
       "      <td>0</td>\n",
       "      <td>0</td>\n",
       "      <td>0</td>\n",
       "      <td>0</td>\n",
       "      <td>0</td>\n",
       "      <td>0</td>\n",
       "      <td>0</td>\n",
       "      <td>0</td>\n",
       "      <td>0</td>\n",
       "      <td>0</td>\n",
       "    </tr>\n",
       "    <tr>\n",
       "      <th>2</th>\n",
       "      <td>7750.00</td>\n",
       "      <td>1</td>\n",
       "      <td>1</td>\n",
       "      <td>18</td>\n",
       "      <td>1</td>\n",
       "      <td>0</td>\n",
       "      <td>0</td>\n",
       "      <td>0</td>\n",
       "      <td>0</td>\n",
       "      <td>0</td>\n",
       "      <td>...</td>\n",
       "      <td>1</td>\n",
       "      <td>0</td>\n",
       "      <td>0</td>\n",
       "      <td>0</td>\n",
       "      <td>0</td>\n",
       "      <td>0</td>\n",
       "      <td>0</td>\n",
       "      <td>0</td>\n",
       "      <td>0</td>\n",
       "      <td>0</td>\n",
       "    </tr>\n",
       "    <tr>\n",
       "      <th>3</th>\n",
       "      <td>5539.05</td>\n",
       "      <td>0</td>\n",
       "      <td>0</td>\n",
       "      <td>60</td>\n",
       "      <td>3</td>\n",
       "      <td>0</td>\n",
       "      <td>0</td>\n",
       "      <td>0</td>\n",
       "      <td>0</td>\n",
       "      <td>0</td>\n",
       "      <td>...</td>\n",
       "      <td>0</td>\n",
       "      <td>0</td>\n",
       "      <td>0</td>\n",
       "      <td>0</td>\n",
       "      <td>0</td>\n",
       "      <td>0</td>\n",
       "      <td>0</td>\n",
       "      <td>0</td>\n",
       "      <td>0</td>\n",
       "      <td>0</td>\n",
       "    </tr>\n",
       "    <tr>\n",
       "      <th>4</th>\n",
       "      <td>1476.66</td>\n",
       "      <td>0</td>\n",
       "      <td>0</td>\n",
       "      <td>25</td>\n",
       "      <td>26</td>\n",
       "      <td>0</td>\n",
       "      <td>0</td>\n",
       "      <td>0</td>\n",
       "      <td>0</td>\n",
       "      <td>0</td>\n",
       "      <td>...</td>\n",
       "      <td>0</td>\n",
       "      <td>0</td>\n",
       "      <td>0</td>\n",
       "      <td>1</td>\n",
       "      <td>0</td>\n",
       "      <td>0</td>\n",
       "      <td>0</td>\n",
       "      <td>0</td>\n",
       "      <td>0</td>\n",
       "      <td>0</td>\n",
       "    </tr>\n",
       "  </tbody>\n",
       "</table>\n",
       "<p>5 rows × 27 columns</p>\n",
       "</div>"
      ],
      "text/plain": [
       "   usd_goal  success  country_US  campaign_duration  preparation_duration  \\\n",
       "0  15000.00        0           1                 30                     5   \n",
       "1   3560.19        0           0                 60                    59   \n",
       "2   7750.00        1           1                 18                     1   \n",
       "3   5539.05        0           0                 60                     3   \n",
       "4   1476.66        0           0                 25                    26   \n",
       "\n",
       "   category_Apps  category_Blues  category_Comedy  category_Experimental  \\\n",
       "0              0               0                0                      0   \n",
       "1              1               0                0                      0   \n",
       "2              0               0                0                      0   \n",
       "3              0               0                0                      0   \n",
       "4              0               0                0                      0   \n",
       "\n",
       "   category_Festivals  ...  category_Plays  category_Robots  category_Shorts  \\\n",
       "0                   0  ...               0                0                0   \n",
       "1                   0  ...               0                0                0   \n",
       "2                   0  ...               1                0                0   \n",
       "3                   0  ...               0                0                0   \n",
       "4                   0  ...               0                0                0   \n",
       "\n",
       "   category_Software  category_Sound  category_Spaces  category_Thrillers  \\\n",
       "0                  0               0                0                   0   \n",
       "1                  0               0                0                   0   \n",
       "2                  0               0                0                   0   \n",
       "3                  0               0                0                   0   \n",
       "4                  1               0                0                   0   \n",
       "\n",
       "   category_Wearables  category_Web  category_Webseries  \n",
       "0                   0             0                   0  \n",
       "1                   0             0                   0  \n",
       "2                   0             0                   0  \n",
       "3                   0             0                   0  \n",
       "4                   0             0                   0  \n",
       "\n",
       "[5 rows x 27 columns]"
      ]
     },
     "execution_count": 42,
     "metadata": {},
     "output_type": "execute_result"
    }
   ],
   "source": [
    "ks= df1[[\"usd_goal\",\"success\",\"country_US\",\"campaign_duration\",\"preparation_duration\",\"category_Apps\",\n",
    "         \"category_Blues\",\"category_Comedy\",\"category_Experimental\",\"category_Festivals\",\"category_Flight\",\"category_Gadgets\",\n",
    "         \"category_Hardware\",\"category_Immersive\",\"category_Makerspaces\",\"category_Musical\",\n",
    "         \"category_Places\",\"category_Plays\",\"category_Robots\",\"category_Shorts\",\"category_Software\",\n",
    "         \"category_Sound\",\"category_Spaces\",\"category_Thrillers\",\"category_Wearables\",\n",
    "         \"category_Web\",\"category_Webseries\"]]\n",
    "\n",
    "ks.head()\n"
   ]
  },
  {
   "cell_type": "code",
   "execution_count": 43,
   "metadata": {
    "colab": {
     "base_uri": "https://localhost:8080/"
    },
    "id": "RbhzquTURPlO",
    "outputId": "7d7969c7-24d4-4e92-a5ed-352e9e953e1b"
   },
   "outputs": [
    {
     "data": {
      "text/plain": [
       "(14214, 27)"
      ]
     },
     "execution_count": 43,
     "metadata": {},
     "output_type": "execute_result"
    }
   ],
   "source": [
    "ks.shape"
   ]
  },
  {
   "cell_type": "code",
   "execution_count": 44,
   "metadata": {
    "colab": {
     "base_uri": "https://localhost:8080/"
    },
    "id": "KX36W74NTOBv",
    "outputId": "3cc6175e-6d63-4925-e491-a3b3505c0d8c"
   },
   "outputs": [
    {
     "name": "stdout",
     "output_type": "stream",
     "text": [
      "<class 'pandas.core.frame.DataFrame'>\n",
      "Int64Index: 14214 entries, 0 to 18565\n",
      "Data columns (total 27 columns):\n",
      " #   Column                 Non-Null Count  Dtype  \n",
      "---  ------                 --------------  -----  \n",
      " 0   usd_goal               14214 non-null  float64\n",
      " 1   success                14214 non-null  int64  \n",
      " 2   country_US             14214 non-null  uint8  \n",
      " 3   campaign_duration      14214 non-null  int64  \n",
      " 4   preparation_duration   14214 non-null  int64  \n",
      " 5   category_Apps          14214 non-null  uint8  \n",
      " 6   category_Blues         14214 non-null  uint8  \n",
      " 7   category_Comedy        14214 non-null  uint8  \n",
      " 8   category_Experimental  14214 non-null  uint8  \n",
      " 9   category_Festivals     14214 non-null  uint8  \n",
      " 10  category_Flight        14214 non-null  uint8  \n",
      " 11  category_Gadgets       14214 non-null  uint8  \n",
      " 12  category_Hardware      14214 non-null  uint8  \n",
      " 13  category_Immersive     14214 non-null  uint8  \n",
      " 14  category_Makerspaces   14214 non-null  uint8  \n",
      " 15  category_Musical       14214 non-null  uint8  \n",
      " 16  category_Places        14214 non-null  uint8  \n",
      " 17  category_Plays         14214 non-null  uint8  \n",
      " 18  category_Robots        14214 non-null  uint8  \n",
      " 19  category_Shorts        14214 non-null  uint8  \n",
      " 20  category_Software      14214 non-null  uint8  \n",
      " 21  category_Sound         14214 non-null  uint8  \n",
      " 22  category_Spaces        14214 non-null  uint8  \n",
      " 23  category_Thrillers     14214 non-null  uint8  \n",
      " 24  category_Wearables     14214 non-null  uint8  \n",
      " 25  category_Web           14214 non-null  uint8  \n",
      " 26  category_Webseries     14214 non-null  uint8  \n",
      "dtypes: float64(1), int64(3), uint8(23)\n",
      "memory usage: 874.5 KB\n"
     ]
    }
   ],
   "source": [
    "ks.info()"
   ]
  },
  {
   "cell_type": "markdown",
   "metadata": {
    "id": "tDJj59czTRZa"
   },
   "source": [
    "## Build The Classification Model"
   ]
  },
  {
   "cell_type": "code",
   "execution_count": 45,
   "metadata": {
    "id": "pmsjd4WgUmVc"
   },
   "outputs": [],
   "source": [
    "from sklearn.model_selection import train_test_split\n",
    "from sklearn.preprocessing import StandardScaler\n",
    "from sklearn.linear_model import LogisticRegression\n",
    "\n",
    "from sklearn.metrics import classification_report\n",
    "from sklearn.metrics import accuracy_score\n",
    "\n",
    "from sklearn.metrics import precision_score, recall_score, precision_recall_curve,f1_score, fbeta_score\n",
    "from sklearn.metrics import confusion_matrix\n",
    "from sklearn.metrics import roc_auc_score, roc_curve\n",
    "from sklearn.metrics import roc_curve, auc"
   ]
  },
  {
   "cell_type": "code",
   "execution_count": 46,
   "metadata": {
    "colab": {
     "base_uri": "https://localhost:8080/",
     "height": 206
    },
    "id": "wdzoBgxbTOEh",
    "outputId": "ea254e84-529f-4d06-b3c6-acdf8be1b3c0"
   },
   "outputs": [
    {
     "data": {
      "text/html": [
       "<div>\n",
       "<style scoped>\n",
       "    .dataframe tbody tr th:only-of-type {\n",
       "        vertical-align: middle;\n",
       "    }\n",
       "\n",
       "    .dataframe tbody tr th {\n",
       "        vertical-align: top;\n",
       "    }\n",
       "\n",
       "    .dataframe thead th {\n",
       "        text-align: right;\n",
       "    }\n",
       "</style>\n",
       "<table border=\"1\" class=\"dataframe\">\n",
       "  <thead>\n",
       "    <tr style=\"text-align: right;\">\n",
       "      <th></th>\n",
       "      <th>success</th>\n",
       "      <th>usd_goal</th>\n",
       "      <th>country_US</th>\n",
       "      <th>campaign_duration</th>\n",
       "    </tr>\n",
       "  </thead>\n",
       "  <tbody>\n",
       "    <tr>\n",
       "      <th>0</th>\n",
       "      <td>0</td>\n",
       "      <td>15000.00</td>\n",
       "      <td>1</td>\n",
       "      <td>30</td>\n",
       "    </tr>\n",
       "    <tr>\n",
       "      <th>1</th>\n",
       "      <td>0</td>\n",
       "      <td>3560.19</td>\n",
       "      <td>0</td>\n",
       "      <td>60</td>\n",
       "    </tr>\n",
       "    <tr>\n",
       "      <th>2</th>\n",
       "      <td>1</td>\n",
       "      <td>7750.00</td>\n",
       "      <td>1</td>\n",
       "      <td>18</td>\n",
       "    </tr>\n",
       "    <tr>\n",
       "      <th>3</th>\n",
       "      <td>0</td>\n",
       "      <td>5539.05</td>\n",
       "      <td>0</td>\n",
       "      <td>60</td>\n",
       "    </tr>\n",
       "    <tr>\n",
       "      <th>4</th>\n",
       "      <td>0</td>\n",
       "      <td>1476.66</td>\n",
       "      <td>0</td>\n",
       "      <td>25</td>\n",
       "    </tr>\n",
       "  </tbody>\n",
       "</table>\n",
       "</div>"
      ],
      "text/plain": [
       "   success  usd_goal  country_US  campaign_duration\n",
       "0        0  15000.00           1                 30\n",
       "1        0   3560.19           0                 60\n",
       "2        1   7750.00           1                 18\n",
       "3        0   5539.05           0                 60\n",
       "4        0   1476.66           0                 25"
      ]
     },
     "execution_count": 46,
     "metadata": {},
     "output_type": "execute_result"
    }
   ],
   "source": [
    "# baseline\n",
    "subset_1= ks.loc[:,[\"success\",\"usd_goal\",\"country_US\",\"campaign_duration\"]]\n",
    "\n",
    "subset_1.head()"
   ]
  },
  {
   "cell_type": "markdown",
   "metadata": {
    "id": "qrQneT3Dn2Zg"
   },
   "source": [
    "# Logistic regression Model"
   ]
  },
  {
   "cell_type": "code",
   "execution_count": 47,
   "metadata": {
    "id": "3y-Ca60STOHb"
   },
   "outputs": [],
   "source": [
    "# define x and y\n",
    "\n",
    "X, y = subset_1.drop(['success'], axis=1), subset_1.success\n",
    "\n",
    "# split the data and standarize\n",
    "\n",
    "X_train, X_test, y_train, y_test = train_test_split(X, y, test_size=0.2, random_state=5)\n",
    "\n",
    "scaler = StandardScaler()\n",
    "X_train_sc = scaler.fit_transform(X_train)\n",
    "X_test_sc = scaler.transform(X_test)"
   ]
  },
  {
   "cell_type": "code",
   "execution_count": 48,
   "metadata": {
    "id": "GjF7nI-pTOK3"
   },
   "outputs": [],
   "source": [
    "# build logistic regression model and predict\n",
    "\n",
    "lr = LogisticRegression()\n",
    "lr.fit(X_train_sc, y_train)\n",
    "lr_pred = lr.predict(X_test_sc)"
   ]
  },
  {
   "cell_type": "code",
   "execution_count": 49,
   "metadata": {
    "colab": {
     "base_uri": "https://localhost:8080/"
    },
    "id": "eDt38LHpVbkd",
    "outputId": "e6da331c-c711-4ec6-cd0d-152bc3774bae"
   },
   "outputs": [
    {
     "name": "stdout",
     "output_type": "stream",
     "text": [
      "              precision    recall  f1-score   support\n",
      "\n",
      "           0       0.67      1.00      0.80      1908\n",
      "           1       0.50      0.00      0.00       935\n",
      "\n",
      "    accuracy                           0.67      2843\n",
      "   macro avg       0.59      0.50      0.40      2843\n",
      "weighted avg       0.61      0.67      0.54      2843\n",
      "\n"
     ]
    }
   ],
   "source": [
    "# evaluate the model\n",
    "lr_ac = lr.score(X_test_sc, y_test)\n",
    "lr_precision = precision_score(y_test, lr_pred)\n",
    "lr_recall = recall_score(y_test, lr_pred)\n",
    "lr_f1 = f1_score(y_test, lr_pred)\n",
    "\n",
    "lr_y_score = lr.predict_proba(X_test_sc)[:,1]\n",
    "lr_fpr, lr_tpr, lr_auc_thresholds = roc_curve(y_test, lr_y_score)\n",
    "roc_auc_lr = auc(lr_fpr, lr_tpr)\n",
    "\n",
    "\n",
    "print(classification_report(y_test, lr_pred))"
   ]
  },
  {
   "cell_type": "code",
   "execution_count": 46,
   "metadata": {
    "colab": {
     "base_uri": "https://localhost:8080/"
    },
    "id": "SHCEnMw8WWpu",
    "outputId": "6a0d3e55-61ce-4309-8cd2-1f580179def1"
   },
   "outputs": [
    {
     "name": "stdout",
     "output_type": "stream",
     "text": [
      "Logistic Regression validation metrics with subset 1: \n",
      " Accuracy: 0.6711 \n",
      " Precision: 0.5000 \n",
      " Recall: 0.0011 \n",
      " F1: 0.0021 \n",
      " ROC: 0.6373\n"
     ]
    }
   ],
   "source": [
    "print('Logistic Regression validation metrics with subset 1: \\n Accuracy: %.4f \\n Precision: %.4f \\n Recall: %.4f \\n F1: %.4f \\n ROC: %.4f' %\n",
    "        (lr_ac, \n",
    "         lr_precision, \n",
    "         lr_recall,\n",
    "         lr_f1,\n",
    "         roc_auc_lr)\n",
    "     )"
   ]
  },
  {
   "cell_type": "code",
   "execution_count": 50,
   "metadata": {
    "colab": {
     "base_uri": "https://localhost:8080/",
     "height": 206
    },
    "id": "xue9SFgxVbqD",
    "outputId": "ceeddbdf-2c86-410c-e412-cd21fa71df8b"
   },
   "outputs": [
    {
     "data": {
      "text/html": [
       "<div>\n",
       "<style scoped>\n",
       "    .dataframe tbody tr th:only-of-type {\n",
       "        vertical-align: middle;\n",
       "    }\n",
       "\n",
       "    .dataframe tbody tr th {\n",
       "        vertical-align: top;\n",
       "    }\n",
       "\n",
       "    .dataframe thead th {\n",
       "        text-align: right;\n",
       "    }\n",
       "</style>\n",
       "<table border=\"1\" class=\"dataframe\">\n",
       "  <thead>\n",
       "    <tr style=\"text-align: right;\">\n",
       "      <th></th>\n",
       "      <th>success</th>\n",
       "      <th>usd_goal</th>\n",
       "      <th>country_US</th>\n",
       "      <th>campaign_duration</th>\n",
       "      <th>preparation_duration</th>\n",
       "    </tr>\n",
       "  </thead>\n",
       "  <tbody>\n",
       "    <tr>\n",
       "      <th>0</th>\n",
       "      <td>0</td>\n",
       "      <td>15000.00</td>\n",
       "      <td>1</td>\n",
       "      <td>30</td>\n",
       "      <td>5</td>\n",
       "    </tr>\n",
       "    <tr>\n",
       "      <th>1</th>\n",
       "      <td>0</td>\n",
       "      <td>3560.19</td>\n",
       "      <td>0</td>\n",
       "      <td>60</td>\n",
       "      <td>59</td>\n",
       "    </tr>\n",
       "    <tr>\n",
       "      <th>2</th>\n",
       "      <td>1</td>\n",
       "      <td>7750.00</td>\n",
       "      <td>1</td>\n",
       "      <td>18</td>\n",
       "      <td>1</td>\n",
       "    </tr>\n",
       "    <tr>\n",
       "      <th>3</th>\n",
       "      <td>0</td>\n",
       "      <td>5539.05</td>\n",
       "      <td>0</td>\n",
       "      <td>60</td>\n",
       "      <td>3</td>\n",
       "    </tr>\n",
       "    <tr>\n",
       "      <th>4</th>\n",
       "      <td>0</td>\n",
       "      <td>1476.66</td>\n",
       "      <td>0</td>\n",
       "      <td>25</td>\n",
       "      <td>26</td>\n",
       "    </tr>\n",
       "  </tbody>\n",
       "</table>\n",
       "</div>"
      ],
      "text/plain": [
       "   success  usd_goal  country_US  campaign_duration  preparation_duration\n",
       "0        0  15000.00           1                 30                     5\n",
       "1        0   3560.19           0                 60                    59\n",
       "2        1   7750.00           1                 18                     1\n",
       "3        0   5539.05           0                 60                     3\n",
       "4        0   1476.66           0                 25                    26"
      ]
     },
     "execution_count": 50,
     "metadata": {},
     "output_type": "execute_result"
    }
   ],
   "source": [
    "# baseline 2\n",
    "subset_2= ks.loc[:,[\"success\",\"usd_goal\",\"country_US\",\"campaign_duration\",\"preparation_duration\"]]\n",
    "\n",
    "subset_2.head()"
   ]
  },
  {
   "cell_type": "code",
   "execution_count": 51,
   "metadata": {
    "id": "SG439n8rTONy"
   },
   "outputs": [],
   "source": [
    "# define x and y\n",
    "\n",
    "x2, y2 = subset_2.drop(['success'], axis=1), subset_2.success\n",
    "\n",
    "# split the data and standarize\n",
    "\n",
    "X_train, X_test, y_train, y_test = train_test_split(x2, y2, test_size=0.2, random_state=5)\n",
    "\n",
    "scaler = StandardScaler()\n",
    "X_train_sc2 = scaler.fit_transform(X_train)\n",
    "X_test_sc2 = scaler.transform(X_test)"
   ]
  },
  {
   "cell_type": "code",
   "execution_count": 52,
   "metadata": {
    "id": "GBvM_KduTOSF"
   },
   "outputs": [],
   "source": [
    "# build the model and predict\n",
    "lr2 = LogisticRegression(C=1000) #small regularization applied \n",
    "lr2.fit(X_train_sc2, y_train)\n",
    "lr2_pred = lr2.predict(X_test_sc2)\n"
   ]
  },
  {
   "cell_type": "code",
   "execution_count": 53,
   "metadata": {
    "colab": {
     "base_uri": "https://localhost:8080/"
    },
    "id": "ZOOGIFcgTOU8",
    "outputId": "89e38765-c33f-4ec7-cedc-3ef690adf8af"
   },
   "outputs": [
    {
     "name": "stdout",
     "output_type": "stream",
     "text": [
      "              precision    recall  f1-score   support\n",
      "\n",
      "           0       0.67      1.00      0.80      1908\n",
      "           1       0.53      0.01      0.02       935\n",
      "\n",
      "    accuracy                           0.67      2843\n",
      "   macro avg       0.60      0.50      0.41      2843\n",
      "weighted avg       0.63      0.67      0.54      2843\n",
      "\n"
     ]
    }
   ],
   "source": [
    "# evaluate the model\n",
    "\n",
    "lr2_confusion = confusion_matrix(y_test, lr2_pred)\n",
    "\n",
    "lr2_ac = lr2.score(X_test_sc2, y_test)\n",
    "lr2_precision = precision_score(y_test, lr2_pred)\n",
    "lr2_recall = recall_score(y_test, lr2_pred)\n",
    "lr2_f1 = f1_score(y_test, lr2_pred)\n",
    "\n",
    "lr2_y_score = lr2.predict_proba(X_test_sc2)[:,1]\n",
    "lr2_fpr, lr2_tpr, lr2_auc_thresholds = roc_curve(y_test, lr2_y_score)\n",
    "roc_auc_lr2 = auc(lr2_fpr, lr2_tpr)\n",
    "\n",
    "print(classification_report(y_test, lr2_pred))"
   ]
  },
  {
   "cell_type": "code",
   "execution_count": 54,
   "metadata": {
    "colab": {
     "base_uri": "https://localhost:8080/"
    },
    "id": "9-CjlghJTOYx",
    "outputId": "90ba02a5-9023-4682-f161-8c5c9ad2db48"
   },
   "outputs": [
    {
     "name": "stdout",
     "output_type": "stream",
     "text": [
      "Logistic Regression validation metrics with subset 2: \n",
      " Accuracy: 0.6715 \n",
      " Precision: 0.5294 \n",
      " Recall: 0.0096 \n",
      " F1: 0.0189 \n",
      " ROC: 0.6458\n"
     ]
    }
   ],
   "source": [
    "print('Logistic Regression validation metrics with subset 2: \\n Accuracy: %.4f \\n Precision: %.4f \\n Recall: %.4f \\n F1: %.4f \\n ROC: %.4f' %\n",
    "        (lr2_ac, \n",
    "         lr2_precision, \n",
    "         lr2_recall,\n",
    "         lr2_f1,\n",
    "         roc_auc_lr2)\n",
    "     )"
   ]
  },
  {
   "cell_type": "code",
   "execution_count": 55,
   "metadata": {
    "id": "tjO9-TZLTOb0"
   },
   "outputs": [],
   "source": [
    "# all features (ks)\n",
    "x3, y3 = ks.drop(['success'], axis=1), ks.success\n",
    "\n",
    "X_train, X_test, y_train, y_test = train_test_split(x3, y3, test_size=0.2, random_state=5)\n",
    "\n",
    "scaler = StandardScaler()\n",
    "X_train_sc3 = scaler.fit_transform(X_train)\n",
    "X_test_sc3 = scaler.transform(X_test)\n"
   ]
  },
  {
   "cell_type": "code",
   "execution_count": 56,
   "metadata": {
    "colab": {
     "base_uri": "https://localhost:8080/"
    },
    "id": "DLNhBseJcM88",
    "outputId": "43cb1649-896f-437f-9b8d-af0f54508442"
   },
   "outputs": [
    {
     "name": "stdout",
     "output_type": "stream",
     "text": [
      "              precision    recall  f1-score   support\n",
      "\n",
      "           0       0.72      0.92      0.81      1908\n",
      "           1       0.61      0.27      0.37       935\n",
      "\n",
      "    accuracy                           0.70      2843\n",
      "   macro avg       0.67      0.59      0.59      2843\n",
      "weighted avg       0.68      0.70      0.66      2843\n",
      "\n"
     ]
    }
   ],
   "source": [
    "lr3 = LogisticRegression(C=0.001) # with regularization\n",
    "lr3.fit(X_train_sc3, y_train)\n",
    "lr3_pred = lr3.predict(X_test_sc3)\n",
    "lr3_confusion = confusion_matrix(y_test, lr3_pred)\n",
    "\n",
    "lr3_ac = lr3.score(X_test_sc3, y_test)\n",
    "lr3_precision = precision_score(y_test, lr3_pred)\n",
    "lr3_recall = recall_score(y_test, lr3_pred)\n",
    "lr3_f1 = f1_score(y_test, lr3_pred)\n",
    "\n",
    "lr3_y_score = lr3.predict_proba(X_test_sc3)[:,1]\n",
    "lr3_fpr, lr3_tpr, lr3_auc_thresholds = roc_curve(y_test, lr3_y_score)\n",
    "roc_auc_lr3 = auc(lr3_fpr, lr3_tpr)\n",
    "\n",
    "print(classification_report(y_test, lr3_pred))"
   ]
  },
  {
   "cell_type": "code",
   "execution_count": 57,
   "metadata": {
    "colab": {
     "base_uri": "https://localhost:8080/"
    },
    "id": "50OBGg5HcM_v",
    "outputId": "e9125a09-58e0-4604-eb41-ec0796281545"
   },
   "outputs": [
    {
     "name": "stdout",
     "output_type": "stream",
     "text": [
      "Logistic Regression validation metrics with full dataset: \n",
      " Accuracy: 0.7031 \n",
      " Precision: 0.6123 \n",
      " Recall: 0.2652 \n",
      " F1: 0.3701 \n",
      " ROC: 0.7251\n"
     ]
    }
   ],
   "source": [
    "# accuracy has improved greatly but the f1 score not satisfactory \n",
    "print('Logistic Regression validation metrics with full dataset: \\n Accuracy: %.4f \\n Precision: %.4f \\n Recall: %.4f \\n F1: %.4f \\n ROC: %.4f' %\n",
    "        (lr3_ac, \n",
    "         lr3_precision, \n",
    "         lr3_recall,\n",
    "         lr3_f1,\n",
    "         roc_auc_lr3)\n",
    "     )"
   ]
  },
  {
   "cell_type": "code",
   "execution_count": 58,
   "metadata": {
    "colab": {
     "base_uri": "https://localhost:8080/",
     "height": 354
    },
    "id": "n3UcsEd9cNEM",
    "outputId": "946b82b5-1bb5-4395-a711-2ff0c168ba75"
   },
   "outputs": [
    {
     "data": {
      "image/png": "[encoded data removed]",
      "text/plain": [
       "<Figure size 360x360 with 1 Axes>"
      ]
     },
     "metadata": {},
     "output_type": "display_data"
    }
   ],
   "source": [
    "plt.figure(figsize=(5,5))\n",
    "lw = 2\n",
    "plt.plot(lr_fpr, lr_tpr, color='black', lw=lw, \n",
    "         label='subset 1 (area= %0.2f)' %roc_auc_lr)\n",
    "plt.plot(lr2_fpr, lr2_tpr, color='blue', lw=lw, \n",
    "         label='subset 2 (area= %0.2f)' %roc_auc_lr2)\n",
    "plt.plot(lr3_fpr, lr3_tpr, color='green', lw=lw, \n",
    "         label='full data (area= %0.2f)' %roc_auc_lr3)\n",
    "plt.plot([0,1],[0,1],c='violet',ls='--')\n",
    "plt.xlim([-0.05,1.05])\n",
    "plt.ylim([-0.05,1.05])\n",
    "\n",
    "\n",
    "plt.xlabel('False positive rate')\n",
    "plt.ylabel('True positive rate')\n",
    "plt.title('ROC curve')\n",
    "plt.legend(loc='lower right');"
   ]
  },
  {
   "cell_type": "code",
   "execution_count": null,
   "metadata": {
    "id": "MHq9AK7ncNG6"
   },
   "outputs": [],
   "source": []
  },
  {
   "cell_type": "markdown",
   "metadata": {
    "id": "oCev921TfyAc"
   },
   "source": [
    "# hyperparameter tuning logistic regression\n",
    "\n",
    "\n"
   ]
  },
  {
   "cell_type": "code",
   "execution_count": 59,
   "metadata": {
    "id": "HpxKPx7n1sKb"
   },
   "outputs": [],
   "source": [
    "from sklearn.model_selection import GridSearchCV\n"
   ]
  },
  {
   "cell_type": "code",
   "execution_count": 60,
   "metadata": {
    "id": "iwIDqpBq1EDB"
   },
   "outputs": [],
   "source": [
    "# define x and y\n",
    "X4, Y4 = ks.drop(['success'], axis=1), ks.success\n",
    "# split into train and test set\n",
    "X_mid, X_test, y_mid, y_test = train_test_split(X4, Y4, test_size=0.2, random_state=5)\n",
    "X_train, X_val, y_train, y_val = train_test_split(X_mid, y_mid, test_size=0.2, random_state=5)"
   ]
  },
  {
   "cell_type": "code",
   "execution_count": 61,
   "metadata": {
    "id": "xVNvbCM61EMP"
   },
   "outputs": [],
   "source": [
    "# standarize the x values\n",
    "scaler = StandardScaler()\n",
    "X_train_sc = scaler.fit_transform(X_train)\n",
    "X_val_sc = scaler.transform(X_val)"
   ]
  },
  {
   "cell_type": "code",
   "execution_count": 62,
   "metadata": {
    "colab": {
     "base_uri": "https://localhost:8080/"
    },
    "id": "QdyLNp3fhkIW",
    "outputId": "b0cc60d7-43ea-4136-9b1e-9df3bdac8700"
   },
   "outputs": [
    {
     "name": "stdout",
     "output_type": "stream",
     "text": [
      "              precision    recall  f1-score   support\n",
      "\n",
      "           0       0.74      0.88      0.81      1508\n",
      "           1       0.63      0.40      0.49       767\n",
      "\n",
      "    accuracy                           0.72      2275\n",
      "   macro avg       0.69      0.64      0.65      2275\n",
      "weighted avg       0.71      0.72      0.70      2275\n",
      "\n"
     ]
    }
   ],
   "source": [
    "# build a model\n",
    "lr = LogisticRegression()\n",
    "lr.fit(X_train_sc, y_train)\n",
    "lr_pred = lr.predict(X_val_sc)\n",
    "lr_confusion = confusion_matrix(y_val, lr_pred)\n",
    "\n",
    "lr_ac = lr.score(X_val_sc, y_val)\n",
    "lr_precision = precision_score(y_val, lr_pred)\n",
    "lr_recall = recall_score(y_val, lr_pred)\n",
    "lr_f1 = f1_score(y_val, lr_pred)\n",
    "\n",
    "print(classification_report(y_val, lr_pred))\n"
   ]
  },
  {
   "cell_type": "code",
   "execution_count": 63,
   "metadata": {
    "colab": {
     "base_uri": "https://localhost:8080/"
    },
    "id": "WFWOP6hUcNNu",
    "outputId": "12e8728a-5846-4674-f6a1-2b03912d590d"
   },
   "outputs": [
    {
     "name": "stdout",
     "output_type": "stream",
     "text": [
      "Fitting 5 folds for each of 14 candidates, totalling 70 fits\n",
      "{'C': 1000, 'penalty': 'l2'} LogisticRegression(C=1000) [[1306  202]\n",
      " [ 418  349]]               precision    recall  f1-score   support\n",
      "\n",
      "           0       0.76      0.87      0.81      1508\n",
      "           1       0.63      0.46      0.53       767\n",
      "\n",
      "    accuracy                           0.73      2275\n",
      "   macro avg       0.70      0.66      0.67      2275\n",
      "weighted avg       0.72      0.73      0.71      2275\n",
      "\n"
     ]
    }
   ],
   "source": [
    "# logistic regression grid search to improve precision, and F1 score\n",
    "penalty = ['l1', 'l2']\n",
    "C = [0.001,0.01,0.1,1,10,100,1000]\n",
    "param_grid = dict(C=C, penalty=penalty)\n",
    "lr_grid_search = LogisticRegression()\n",
    "lr_grid = GridSearchCV(lr_grid_search, param_grid, cv=5, scoring='f1', verbose=2, n_jobs=-1, refit = True)\n",
    "lr_grid.fit(X_train_sc, y_train)\n",
    "lr_grid_preds = lr_grid.predict(X_val_sc)\n",
    "\n",
    "lr_grid_best_params = lr_grid.best_params_\n",
    "lr_grid_best_estimator = lr_grid.best_estimator_\n",
    "lr_grid_best_cm = confusion_matrix(y_val,lr_grid_preds)\n",
    "lr_grid_best_cr = classification_report(y_val,lr_grid_preds)\n",
    "print(lr_grid_best_params, lr_grid_best_estimator, lr_grid_best_cm, lr_grid_best_cr)"
   ]
  },
  {
   "cell_type": "code",
   "execution_count": 64,
   "metadata": {
    "colab": {
     "base_uri": "https://localhost:8080/"
    },
    "id": "Av_CbZxX2Hli",
    "outputId": "ea3d7f53-a7ad-4505-b2c1-c88d8d71d0f6"
   },
   "outputs": [
    {
     "name": "stdout",
     "output_type": "stream",
     "text": [
      "logistic regression with hyperparameter: \n",
      " Accuracy: 0.7196 \n",
      " Precision: 0.6341 \n",
      " Recall: 0.3977 \n",
      " F1: 0.4888\n"
     ]
    }
   ],
   "source": [
    "# better result seen with hyperparameter tuning for f1 score\n",
    "print( \"logistic regression with hyperparameter: \\n Accuracy: %.4f \\n Precision: %.4f \\n Recall: %.4f \\n F1: %.4f\" %\n",
    "        (lr_ac, \n",
    "         lr_precision, \n",
    "         lr_recall,\n",
    "         lr_f1)\n",
    "     )"
   ]
  },
  {
   "cell_type": "code",
   "execution_count": 65,
   "metadata": {
    "id": "-P-5y9r9q8m5"
   },
   "outputs": [],
   "source": [
    "### extra classification analysis was done using random forest"
   ]
  },
  {
   "cell_type": "markdown",
   "metadata": {
    "id": "j_BA-6L_r_Rr"
   },
   "source": [
    "## random forest"
   ]
  },
  {
   "cell_type": "code",
   "execution_count": 66,
   "metadata": {
    "id": "haa8mUFaq8pu"
   },
   "outputs": [],
   "source": [
    "from sklearn.ensemble import RandomForestClassifier\n"
   ]
  },
  {
   "cell_type": "code",
   "execution_count": 67,
   "metadata": {
    "id": "no4ljoafq8ue"
   },
   "outputs": [],
   "source": [
    "# define x and y\n",
    "X5, Y5 = ks.drop(['success'], axis=1), ks.success\n",
    "# split into train/test set\n",
    "X_train, X_test, y_train, y_test = train_test_split(X5, Y5, test_size=0.2, random_state=5)\n",
    "# standarize\n",
    "scaler = StandardScaler()\n",
    "X_train_sc = scaler.fit_transform(X_train)\n",
    "X_test_sc = scaler.transform(X_test)"
   ]
  },
  {
   "cell_type": "code",
   "execution_count": 68,
   "metadata": {
    "colab": {
     "base_uri": "https://localhost:8080/"
    },
    "id": "uU6dhlJoq8xP",
    "outputId": "24fc5ee0-cb64-4a58-b73b-015b27332dfa"
   },
   "outputs": [
    {
     "name": "stdout",
     "output_type": "stream",
     "text": [
      "              precision    recall  f1-score   support\n",
      "\n",
      "           0       0.77      0.81      0.79      1908\n",
      "           1       0.56      0.49      0.53       935\n",
      "\n",
      "    accuracy                           0.71      2843\n",
      "   macro avg       0.66      0.65      0.66      2843\n",
      "weighted avg       0.70      0.71      0.70      2843\n",
      "\n"
     ]
    }
   ],
   "source": [
    "#Build Random forest model\n",
    "rf = RandomForestClassifier()\n",
    "rf.fit(X_train_sc, y_train)\n",
    "rf_pred = rf.predict(X_test_sc)\n",
    "rf_confusion = confusion_matrix(y_test, rf_pred)\n",
    "\n",
    "rf_ac = rf.score(X_test_sc, y_test)\n",
    "rf_precision = precision_score(y_test, rf_pred)\n",
    "rf_recall = recall_score(y_test, rf_pred)\n",
    "rf_f1 = f1_score(y_test, rf_pred)\n",
    "\n",
    "print(classification_report(y_test, rf_pred))"
   ]
  },
  {
   "cell_type": "code",
   "execution_count": 69,
   "metadata": {
    "colab": {
     "base_uri": "https://localhost:8080/"
    },
    "id": "V5VT6tcE731s",
    "outputId": "7c9db6b5-b7c0-4605-cadb-70c6ddfcf964"
   },
   "outputs": [
    {
     "name": "stdout",
     "output_type": "stream",
     "text": [
      "Random Forest validation metrics: \n",
      " Accuracy: 0.7070 \n",
      " Precision: 0.5620 \n",
      " Recall: 0.4941 \n",
      " F1: 0.5259\n"
     ]
    }
   ],
   "source": [
    "print('Random Forest validation metrics: \\n Accuracy: %.4f \\n Precision: %.4f \\n Recall: %.4f \\n F1: %.4f' %\n",
    "        (rf_ac, \n",
    "         rf_precision, \n",
    "         rf_recall,\n",
    "         rf_f1)\n",
    "     )"
   ]
  },
  {
   "cell_type": "code",
   "execution_count": null,
   "metadata": {
    "id": "mVohi22PsqUn"
   },
   "outputs": [],
   "source": []
  },
  {
   "cell_type": "markdown",
   "metadata": {
    "id": "PqeNc_Hzswyy"
   },
   "source": [
    "## Clustering model"
   ]
  },
  {
   "cell_type": "code",
   "execution_count": 70,
   "metadata": {
    "colab": {
     "base_uri": "https://localhost:8080/",
     "height": 810
    },
    "id": "Qzdz6yC5rAYQ",
    "outputId": "2d5d238a-9918-430d-f04a-115c9091059a"
   },
   "outputs": [
    {
     "data": {
      "image/png": "[encoded data removed]",
      "text/plain": [
       "<Figure size 864x864 with 2 Axes>"
      ]
     },
     "metadata": {},
     "output_type": "display_data"
    }
   ],
   "source": [
    "fig_dims = (12, 12)\n",
    "fig, ax = plt.subplots(figsize=fig_dims)\n",
    "sns.heatmap(ks.corr());"
   ]
  },
  {
   "cell_type": "markdown",
   "metadata": {
    "id": "RD18YBgVyqSc"
   },
   "source": [
    "# PCA analysis"
   ]
  },
  {
   "cell_type": "code",
   "execution_count": 71,
   "metadata": {
    "id": "eoQdUrah0pWt"
   },
   "outputs": [],
   "source": [
    "X_pca= ks.drop(['success'], axis=1)\n",
    "from sklearn.decomposition import PCA\n",
    "from sklearn.preprocessing import scale\n",
    "\n",
    "X_pca_scaler= scale(X_pca)\n",
    "\n"
   ]
  },
  {
   "cell_type": "code",
   "execution_count": 72,
   "metadata": {
    "colab": {
     "base_uri": "https://localhost:8080/",
     "height": 408
    },
    "id": "vdQ2eIG14TiF",
    "outputId": "d510e675-f3e6-4e89-a073-cd3319e13de1"
   },
   "outputs": [
    {
     "data": {
      "image/png": "[encoded data removed]",
      "text/plain": [
       "<Figure size 864x432 with 1 Axes>"
      ]
     },
     "metadata": {},
     "output_type": "display_data"
    }
   ],
   "source": [
    "from sklearn.decomposition import PCA\n",
    "pca = PCA().fit(X_pca_scaler)\n",
    "\n",
    "import matplotlib.pyplot as plt\n",
    "plt.rcParams[\"figure.figsize\"] = (12,6)\n",
    "\n",
    "fig, ax = plt.subplots()\n",
    "xi = np.arange(1, 27, step=1)\n",
    "y = np.cumsum(pca.explained_variance_ratio_)\n",
    "plt.ylim(0.0,1.1)\n",
    "plt.plot(xi, y, marker='o', linestyle='--', color='b')\n",
    "\n",
    "plt.xlabel('Number of Components')\n",
    "plt.xticks(np.arange(0, 30, step=1)) #change from 0-based array index to 1-based human-readable label\n",
    "plt.ylabel('Cumulative variance (%)')\n",
    "plt.title('The number of components needed to explain variance')\n",
    "\n",
    "plt.axhline(y=0.95, color='r', linestyle='-')\n",
    "plt.text(0.5, 0.85, '95% cut-off threshold', color = 'red', fontsize=16)\n",
    "\n",
    "ax.grid(axis='x')\n",
    "plt.show()"
   ]
  },
  {
   "cell_type": "code",
   "execution_count": 73,
   "metadata": {
    "id": "Q3XfhWYm4Tjl"
   },
   "outputs": [],
   "source": [
    "# elbow method to determine the optimal k value"
   ]
  },
  {
   "cell_type": "code",
   "execution_count": 74,
   "metadata": {
    "id": "EFWzCIZo0e4j"
   },
   "outputs": [],
   "source": [
    "# define x and remove the target variable\n",
    "X= ks.drop(['success'], axis=1)"
   ]
  },
  {
   "cell_type": "code",
   "execution_count": 75,
   "metadata": {
    "colab": {
     "base_uri": "https://localhost:8080/",
     "height": 425
    },
    "id": "U3nhgU6oJXyY",
    "outputId": "0815da25-38dd-4a04-f903-87cae627e851"
   },
   "outputs": [
    {
     "data": {
      "text/plain": [
       "Text(0.5, 0, 'Number of clusters')"
      ]
     },
     "execution_count": 75,
     "metadata": {},
     "output_type": "execute_result"
    },
    {
     "data": {
      "image/png": "[encoded data removed]",
      "text/plain": [
       "<Figure size 864x432 with 1 Axes>"
      ]
     },
     "metadata": {},
     "output_type": "display_data"
    }
   ],
   "source": [
    "from sklearn.cluster import KMeans\n",
    "wss=[]# within clusters sum of errors\n",
    "for i in range(2,8):\n",
    "  kmeans= KMeans(n_clusters=i)\n",
    "  model= kmeans.fit(X)\n",
    "  wss.append(model.inertia_)\n",
    "\n",
    "from matplotlib import pyplot\n",
    "pyplot.plot([2,3,4,5,6,7],wss)\n",
    "pyplot.title(\"Elbow Method\")\n",
    "pyplot.ylabel(\"WSS\")\n",
    "pyplot.xlabel(\"Number of clusters\")\n",
    "\n"
   ]
  },
  {
   "cell_type": "markdown",
   "metadata": {
    "id": "lJ1NMAiY6oaS"
   },
   "source": [
    "from this graph, the optimal cluster should be 4"
   ]
  },
  {
   "cell_type": "code",
   "execution_count": 76,
   "metadata": {
    "id": "FqIJRrt3uYpV"
   },
   "outputs": [],
   "source": [
    "## lets use data from the orginal data"
   ]
  },
  {
   "cell_type": "code",
   "execution_count": 77,
   "metadata": {
    "id": "C-2fWpAfQTlt"
   },
   "outputs": [],
   "source": [
    "# examine the categories\n",
    "X_cluster2= df1[[\"pledged\",\"backers_count\"]]\n",
    "\n",
    "# standarize the x value\n",
    "X_cluster2sc= scaler.fit_transform(X_cluster2)"
   ]
  },
  {
   "cell_type": "code",
   "execution_count": 78,
   "metadata": {
    "colab": {
     "base_uri": "https://localhost:8080/"
    },
    "id": "bQAhhePbQTol",
    "outputId": "36db3d6a-71ee-4fac-81bb-3ea84a9ca46a"
   },
   "outputs": [
    {
     "data": {
      "text/plain": [
       "KMeans(n_clusters=4, random_state=0)"
      ]
     },
     "execution_count": 78,
     "metadata": {},
     "output_type": "execute_result"
    }
   ],
   "source": [
    "# k-mean model\n",
    "\n",
    "kmeans= KMeans(n_clusters=4, random_state=0)\n",
    "kmeans.fit(X_cluster2sc)"
   ]
  },
  {
   "cell_type": "code",
   "execution_count": 79,
   "metadata": {
    "id": "29dTEyTJsdpm"
   },
   "outputs": [],
   "source": [
    "kmeans= KMeans(n_clusters=4)\n",
    "model= kmeans.fit(X_cluster2sc)\n",
    "labels= model.predict(X_cluster2sc)\n"
   ]
  },
  {
   "cell_type": "code",
   "execution_count": 80,
   "metadata": {
    "colab": {
     "base_uri": "https://localhost:8080/",
     "height": 408
    },
    "id": "s1wBQMM9Zk_M",
    "outputId": "8f0368c7-64cb-4022-ade4-a9c0256af506"
   },
   "outputs": [
    {
     "data": {
      "text/plain": [
       "Text(0, 0.5, 'backers_count')"
      ]
     },
     "execution_count": 80,
     "metadata": {},
     "output_type": "execute_result"
    },
    {
     "data": {
      "image/png": "[encoded data removed]",
      "text/plain": [
       "<Figure size 864x432 with 1 Axes>"
      ]
     },
     "metadata": {},
     "output_type": "display_data"
    }
   ],
   "source": [
    "# plot the graph\n",
    "from matplotlib import pyplot\n",
    "pyplot.scatter(df1.pledged,df1.backers_count, c=labels, cmap= \"rainbow\")\n",
    "\n",
    "pyplot.xlabel(\"pledged\")\n",
    "pyplot.ylabel(\"backers_count\")\n",
    "\n",
    "\n"
   ]
  },
  {
   "cell_type": "code",
   "execution_count": null,
   "metadata": {
    "id": "-nEtd5ekQSlL"
   },
   "outputs": [],
   "source": []
  },
  {
   "cell_type": "code",
   "execution_count": null,
   "metadata": {
    "id": "I5R6SmPjQSoF"
   },
   "outputs": [],
   "source": []
  },
  {
   "cell_type": "code",
   "execution_count": null,
   "metadata": {
    "id": "jkdQiQztQSq2"
   },
   "outputs": [],
   "source": []
  },
  {
   "cell_type": "code",
   "execution_count": null,
   "metadata": {
    "id": "2dPG-w3DQHxu"
   },
   "outputs": [],
   "source": []
  }
 ],
 "metadata": {
  "colab": {
   "name": "Individual Project kickstarter Final.ipynb",
   "provenance": []
  },
  "kernelspec": {
   "display_name": "Python 3",
   "language": "python",
   "name": "python3"
  },
  "language_info": {
   "codemirror_mode": {
    "name": "ipython",
    "version": 3
   },
   "file_extension": ".py",
   "mimetype": "text/x-python",
   "name": "python",
   "nbconvert_exporter": "python",
   "pygments_lexer": "ipython3",
   "version": "3.8.8"
  }
 },
 "nbformat": 4,
 "nbformat_minor": 1
}
